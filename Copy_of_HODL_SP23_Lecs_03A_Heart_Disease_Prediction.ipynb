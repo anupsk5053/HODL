{
  "cells": [
    {
      "cell_type": "markdown",
      "metadata": {
        "id": "uZuGNXc58pgl"
      },
      "source": [
        "# Binary Classification on Tabular Data - Predicting Heart Disease\n",
        "\n",
        "\n",
        "\n"
      ]
    },
    {
      "cell_type": "markdown",
      "metadata": {
        "id": "PTigfjFI8pgn"
      },
      "source": [
        "## Introduction\n",
        "\n",
        "This colab shows how to set up and train a Neural Network model for *binary classification*, when the dataset is *tabular* (rather than unstructured data like images or text) and has a mix of numeric and categorical features. Since tabular datasets are often made available in CSV files, the colab demonstrates the full CSV-to-trained-model workflow.\n",
        "\n",
        "\n",
        "\n",
        "\n",
        "### The dataset\n",
        "\n",
        "The dataset ([more background on the data](https://archive.ics.uci.edu/ml/datasets/heart+Disease)) has information on 303 patients, one in each row. Each column (i.e., feature) contains information on a particular attribute of the patient. The column named \"Target\" indicates if the patient has been diagnosed with heart disease or not and is the label (i.e., the dependent variable) that we want to predict using the other columns. \n",
        "\n",
        "Feature description (copied from [here](https://keras.io/examples/structured_data/structured_data_classification_from_scratch/)):\n",
        "\n",
        "Column| Description| Feature Type\n",
        "------------|--------------------|----------------------\n",
        "Age | Age in years | Numerical\n",
        "Sex | (1 = male; 0 = female) | Categorical\n",
        "CP | Chest pain type (0, 1, 2, 3, 4) | Categorical\n",
        "Trestbpd | Resting blood pressure (in mm Hg on admission) | Numerical\n",
        "Chol | Serum cholesterol in mg/dl | Numerical\n",
        "FBS | fasting blood sugar in 120 mg/dl (1 = true; 0 = false) | Categorical\n",
        "RestECG | Resting electrocardiogram results (0, 1, 2) | Categorical\n",
        "Thalach | Maximum heart rate achieved | Numerical\n",
        "Exang | Exercise induced angina (1 = yes; 0 = no) | Categorical\n",
        "Oldpeak | ST depression induced by exercise relative to rest | Numerical\n",
        "Slope | Slope of the peak exercise ST segment | Numerical\n",
        "CA | Number of major vessels (0-3) colored by fluoroscopy | Both numerical & categorical\n",
        "Thal | 3 = normal; 6 = fixed defect; 7 = reversible defect | Categorical\n",
        "Target | Diagnosis of heart disease (1 = true; 0 = false) | Target"
      ]
    },
    {
      "cell_type": "markdown",
      "metadata": {
        "id": "-7YELlPx8pgo"
      },
      "source": [
        "## Technical preliminaries\n",
        "\n",
        "Throughout the course, we will load the following packages as the first step and set the seed for different random number generators.\n",
        "\n",
        "What is random?\n",
        "*   Initialization of weights used by SGD\n",
        "*   Dropout\n",
        "*   Order of minibatches\n",
        "*   Train-validation-test split\n"
      ]
    },
    {
      "cell_type": "code",
      "execution_count": 1,
      "metadata": {
        "id": "oqhnaoXC8pgp"
      },
      "outputs": [],
      "source": [
        "import tensorflow as tf\n",
        "from tensorflow import keras\n",
        "import numpy as np\n",
        "import pandas as pd\n",
        "import matplotlib.pyplot as plt\n",
        "\n",
        "# initialize the seeds of different random number generators so that the \n",
        "# results will be the same every time the notebook is run\n",
        "keras.utils.set_random_seed(42)"
      ]
    },
    {
      "cell_type": "markdown",
      "metadata": {
        "id": "tRS8tSL-8pgp"
      },
      "source": [
        "## Read in the data\n",
        "\n",
        "Conveniently, the dataset in CSV form has been made available online (by [Francois Chollet](https://twitter.com/fchollet)) and we can load it into a Pandas dataframe with the very useful `pd.read_csv` command."
      ]
    },
    {
      "cell_type": "code",
      "execution_count": 2,
      "metadata": {
        "id": "UwIi1uXT8pgq"
      },
      "outputs": [],
      "source": [
        "df = pd.read_csv(\"http://storage.googleapis.com/download.tensorflow.org/data/heart.csv\")"
      ]
    },
    {
      "cell_type": "code",
      "execution_count": 3,
      "metadata": {
        "id": "y0gs3ULo8pgr",
        "colab": {
          "base_uri": "https://localhost:8080/"
        },
        "outputId": "756319a0-56dd-488c-c373-a89043a767a0"
      },
      "outputs": [
        {
          "output_type": "execute_result",
          "data": {
            "text/plain": [
              "(303, 14)"
            ]
          },
          "metadata": {},
          "execution_count": 3
        }
      ],
      "source": [
        "df.shape"
      ]
    },
    {
      "cell_type": "markdown",
      "metadata": {
        "id": "mWQPAk_R8pgq"
      },
      "source": [
        "The dataset has 303 rows and 14 columns (13 independent variables + 1 dependent variable):"
      ]
    },
    {
      "cell_type": "markdown",
      "metadata": {
        "id": "RV1UP8MN8pgr"
      },
      "source": [
        "Let's take a look at the first few rows:"
      ]
    },
    {
      "cell_type": "code",
      "execution_count": 4,
      "metadata": {
        "id": "-z8LPV1n8pgr",
        "colab": {
          "base_uri": "https://localhost:8080/",
          "height": 206
        },
        "outputId": "64f7cb3e-10ce-48b8-c865-12332a08e287"
      },
      "outputs": [
        {
          "output_type": "execute_result",
          "data": {
            "text/plain": [
              "   age  sex  cp  trestbps  chol  fbs  restecg  thalach  exang  oldpeak  slope  \\\n",
              "0   63    1   1       145   233    1        2      150      0      2.3      3   \n",
              "1   67    1   4       160   286    0        2      108      1      1.5      2   \n",
              "2   67    1   4       120   229    0        2      129      1      2.6      2   \n",
              "3   37    1   3       130   250    0        0      187      0      3.5      3   \n",
              "4   41    0   2       130   204    0        2      172      0      1.4      1   \n",
              "\n",
              "   ca        thal  target  \n",
              "0   0       fixed       0  \n",
              "1   3      normal       1  \n",
              "2   2  reversible       0  \n",
              "3   0      normal       0  \n",
              "4   0      normal       0  "
            ],
            "text/html": [
              "\n",
              "  <div id=\"df-1c7ebdb7-9bce-44a9-982d-54dfe51d64ec\">\n",
              "    <div class=\"colab-df-container\">\n",
              "      <div>\n",
              "<style scoped>\n",
              "    .dataframe tbody tr th:only-of-type {\n",
              "        vertical-align: middle;\n",
              "    }\n",
              "\n",
              "    .dataframe tbody tr th {\n",
              "        vertical-align: top;\n",
              "    }\n",
              "\n",
              "    .dataframe thead th {\n",
              "        text-align: right;\n",
              "    }\n",
              "</style>\n",
              "<table border=\"1\" class=\"dataframe\">\n",
              "  <thead>\n",
              "    <tr style=\"text-align: right;\">\n",
              "      <th></th>\n",
              "      <th>age</th>\n",
              "      <th>sex</th>\n",
              "      <th>cp</th>\n",
              "      <th>trestbps</th>\n",
              "      <th>chol</th>\n",
              "      <th>fbs</th>\n",
              "      <th>restecg</th>\n",
              "      <th>thalach</th>\n",
              "      <th>exang</th>\n",
              "      <th>oldpeak</th>\n",
              "      <th>slope</th>\n",
              "      <th>ca</th>\n",
              "      <th>thal</th>\n",
              "      <th>target</th>\n",
              "    </tr>\n",
              "  </thead>\n",
              "  <tbody>\n",
              "    <tr>\n",
              "      <th>0</th>\n",
              "      <td>63</td>\n",
              "      <td>1</td>\n",
              "      <td>1</td>\n",
              "      <td>145</td>\n",
              "      <td>233</td>\n",
              "      <td>1</td>\n",
              "      <td>2</td>\n",
              "      <td>150</td>\n",
              "      <td>0</td>\n",
              "      <td>2.3</td>\n",
              "      <td>3</td>\n",
              "      <td>0</td>\n",
              "      <td>fixed</td>\n",
              "      <td>0</td>\n",
              "    </tr>\n",
              "    <tr>\n",
              "      <th>1</th>\n",
              "      <td>67</td>\n",
              "      <td>1</td>\n",
              "      <td>4</td>\n",
              "      <td>160</td>\n",
              "      <td>286</td>\n",
              "      <td>0</td>\n",
              "      <td>2</td>\n",
              "      <td>108</td>\n",
              "      <td>1</td>\n",
              "      <td>1.5</td>\n",
              "      <td>2</td>\n",
              "      <td>3</td>\n",
              "      <td>normal</td>\n",
              "      <td>1</td>\n",
              "    </tr>\n",
              "    <tr>\n",
              "      <th>2</th>\n",
              "      <td>67</td>\n",
              "      <td>1</td>\n",
              "      <td>4</td>\n",
              "      <td>120</td>\n",
              "      <td>229</td>\n",
              "      <td>0</td>\n",
              "      <td>2</td>\n",
              "      <td>129</td>\n",
              "      <td>1</td>\n",
              "      <td>2.6</td>\n",
              "      <td>2</td>\n",
              "      <td>2</td>\n",
              "      <td>reversible</td>\n",
              "      <td>0</td>\n",
              "    </tr>\n",
              "    <tr>\n",
              "      <th>3</th>\n",
              "      <td>37</td>\n",
              "      <td>1</td>\n",
              "      <td>3</td>\n",
              "      <td>130</td>\n",
              "      <td>250</td>\n",
              "      <td>0</td>\n",
              "      <td>0</td>\n",
              "      <td>187</td>\n",
              "      <td>0</td>\n",
              "      <td>3.5</td>\n",
              "      <td>3</td>\n",
              "      <td>0</td>\n",
              "      <td>normal</td>\n",
              "      <td>0</td>\n",
              "    </tr>\n",
              "    <tr>\n",
              "      <th>4</th>\n",
              "      <td>41</td>\n",
              "      <td>0</td>\n",
              "      <td>2</td>\n",
              "      <td>130</td>\n",
              "      <td>204</td>\n",
              "      <td>0</td>\n",
              "      <td>2</td>\n",
              "      <td>172</td>\n",
              "      <td>0</td>\n",
              "      <td>1.4</td>\n",
              "      <td>1</td>\n",
              "      <td>0</td>\n",
              "      <td>normal</td>\n",
              "      <td>0</td>\n",
              "    </tr>\n",
              "  </tbody>\n",
              "</table>\n",
              "</div>\n",
              "      <button class=\"colab-df-convert\" onclick=\"convertToInteractive('df-1c7ebdb7-9bce-44a9-982d-54dfe51d64ec')\"\n",
              "              title=\"Convert this dataframe to an interactive table.\"\n",
              "              style=\"display:none;\">\n",
              "        \n",
              "  <svg xmlns=\"http://www.w3.org/2000/svg\" height=\"24px\"viewBox=\"0 0 24 24\"\n",
              "       width=\"24px\">\n",
              "    <path d=\"M0 0h24v24H0V0z\" fill=\"none\"/>\n",
              "    <path d=\"M18.56 5.44l.94 2.06.94-2.06 2.06-.94-2.06-.94-.94-2.06-.94 2.06-2.06.94zm-11 1L8.5 8.5l.94-2.06 2.06-.94-2.06-.94L8.5 2.5l-.94 2.06-2.06.94zm10 10l.94 2.06.94-2.06 2.06-.94-2.06-.94-.94-2.06-.94 2.06-2.06.94z\"/><path d=\"M17.41 7.96l-1.37-1.37c-.4-.4-.92-.59-1.43-.59-.52 0-1.04.2-1.43.59L10.3 9.45l-7.72 7.72c-.78.78-.78 2.05 0 2.83L4 21.41c.39.39.9.59 1.41.59.51 0 1.02-.2 1.41-.59l7.78-7.78 2.81-2.81c.8-.78.8-2.07 0-2.86zM5.41 20L4 18.59l7.72-7.72 1.47 1.35L5.41 20z\"/>\n",
              "  </svg>\n",
              "      </button>\n",
              "      \n",
              "  <style>\n",
              "    .colab-df-container {\n",
              "      display:flex;\n",
              "      flex-wrap:wrap;\n",
              "      gap: 12px;\n",
              "    }\n",
              "\n",
              "    .colab-df-convert {\n",
              "      background-color: #E8F0FE;\n",
              "      border: none;\n",
              "      border-radius: 50%;\n",
              "      cursor: pointer;\n",
              "      display: none;\n",
              "      fill: #1967D2;\n",
              "      height: 32px;\n",
              "      padding: 0 0 0 0;\n",
              "      width: 32px;\n",
              "    }\n",
              "\n",
              "    .colab-df-convert:hover {\n",
              "      background-color: #E2EBFA;\n",
              "      box-shadow: 0px 1px 2px rgba(60, 64, 67, 0.3), 0px 1px 3px 1px rgba(60, 64, 67, 0.15);\n",
              "      fill: #174EA6;\n",
              "    }\n",
              "\n",
              "    [theme=dark] .colab-df-convert {\n",
              "      background-color: #3B4455;\n",
              "      fill: #D2E3FC;\n",
              "    }\n",
              "\n",
              "    [theme=dark] .colab-df-convert:hover {\n",
              "      background-color: #434B5C;\n",
              "      box-shadow: 0px 1px 3px 1px rgba(0, 0, 0, 0.15);\n",
              "      filter: drop-shadow(0px 1px 2px rgba(0, 0, 0, 0.3));\n",
              "      fill: #FFFFFF;\n",
              "    }\n",
              "  </style>\n",
              "\n",
              "      <script>\n",
              "        const buttonEl =\n",
              "          document.querySelector('#df-1c7ebdb7-9bce-44a9-982d-54dfe51d64ec button.colab-df-convert');\n",
              "        buttonEl.style.display =\n",
              "          google.colab.kernel.accessAllowed ? 'block' : 'none';\n",
              "\n",
              "        async function convertToInteractive(key) {\n",
              "          const element = document.querySelector('#df-1c7ebdb7-9bce-44a9-982d-54dfe51d64ec');\n",
              "          const dataTable =\n",
              "            await google.colab.kernel.invokeFunction('convertToInteractive',\n",
              "                                                     [key], {});\n",
              "          if (!dataTable) return;\n",
              "\n",
              "          const docLinkHtml = 'Like what you see? Visit the ' +\n",
              "            '<a target=\"_blank\" href=https://colab.research.google.com/notebooks/data_table.ipynb>data table notebook</a>'\n",
              "            + ' to learn more about interactive tables.';\n",
              "          element.innerHTML = '';\n",
              "          dataTable['output_type'] = 'display_data';\n",
              "          await google.colab.output.renderOutput(dataTable, element);\n",
              "          const docLink = document.createElement('div');\n",
              "          docLink.innerHTML = docLinkHtml;\n",
              "          element.appendChild(docLink);\n",
              "        }\n",
              "      </script>\n",
              "    </div>\n",
              "  </div>\n",
              "  "
            ]
          },
          "metadata": {},
          "execution_count": 4
        }
      ],
      "source": [
        "df.head()"
      ]
    },
    {
      "cell_type": "markdown",
      "metadata": {
        "id": "Tp9o9bm58pgu"
      },
      "source": [
        "## Preprocessing \n",
        "\n",
        "This dataset has both categorical variables and numeric variables.\n",
        "\n",
        "We'd like to preprocess them as follows:\n",
        "- *one-hot encode* the categorical variables\n",
        "- *normalize* the numeric variables\n",
        "\n",
        "It will be convenient (for later processing) to collect these groups of variables into two lists."
      ]
    },
    {
      "cell_type": "code",
      "source": [
        "categorical_variables = ['sex', 'cp', 'fbs', 'restecg','exang', 'ca', 'thal']\n",
        "numerics = ['age', 'trestbps','chol', 'thalach', 'oldpeak', 'slope']"
      ],
      "metadata": {
        "id": "sY6ASs0BTlUh"
      },
      "execution_count": 5,
      "outputs": []
    },
    {
      "cell_type": "markdown",
      "source": [
        "\n",
        "With the pandas `get_dummies` function, you can one-hot-encode in one line.\n"
      ],
      "metadata": {
        "id": "_y45-rf-ZdOp"
      }
    },
    {
      "cell_type": "code",
      "source": [
        "df = pd.get_dummies(df, columns = categorical_variables)"
      ],
      "metadata": {
        "id": "8rOCggp2Tius"
      },
      "execution_count": 6,
      "outputs": []
    },
    {
      "cell_type": "code",
      "source": [
        "df.head()"
      ],
      "metadata": {
        "colab": {
          "base_uri": "https://localhost:8080/",
          "height": 236
        },
        "id": "iEeCwpvQfilR",
        "outputId": "729101eb-de9c-4afa-f9c6-186bec203508"
      },
      "execution_count": 7,
      "outputs": [
        {
          "output_type": "execute_result",
          "data": {
            "text/plain": [
              "   age  trestbps  chol  thalach  oldpeak  slope  target  sex_0  sex_1  cp_0  \\\n",
              "0   63       145   233      150      2.3      3       0      0      1     0   \n",
              "1   67       160   286      108      1.5      2       1      0      1     0   \n",
              "2   67       120   229      129      2.6      2       0      0      1     0   \n",
              "3   37       130   250      187      3.5      3       0      0      1     0   \n",
              "4   41       130   204      172      1.4      1       0      1      0     0   \n",
              "\n",
              "   ...  exang_1  ca_0  ca_1  ca_2  ca_3  thal_1  thal_2  thal_fixed  \\\n",
              "0  ...        0     1     0     0     0       0       0           1   \n",
              "1  ...        1     0     0     0     1       0       0           0   \n",
              "2  ...        1     0     0     1     0       0       0           0   \n",
              "3  ...        0     1     0     0     0       0       0           0   \n",
              "4  ...        0     1     0     0     0       0       0           0   \n",
              "\n",
              "   thal_normal  thal_reversible  \n",
              "0            0                0  \n",
              "1            1                0  \n",
              "2            0                1  \n",
              "3            1                0  \n",
              "4            1                0  \n",
              "\n",
              "[5 rows x 30 columns]"
            ],
            "text/html": [
              "\n",
              "  <div id=\"df-f67fafa9-1de6-44ec-bb27-54933247395c\">\n",
              "    <div class=\"colab-df-container\">\n",
              "      <div>\n",
              "<style scoped>\n",
              "    .dataframe tbody tr th:only-of-type {\n",
              "        vertical-align: middle;\n",
              "    }\n",
              "\n",
              "    .dataframe tbody tr th {\n",
              "        vertical-align: top;\n",
              "    }\n",
              "\n",
              "    .dataframe thead th {\n",
              "        text-align: right;\n",
              "    }\n",
              "</style>\n",
              "<table border=\"1\" class=\"dataframe\">\n",
              "  <thead>\n",
              "    <tr style=\"text-align: right;\">\n",
              "      <th></th>\n",
              "      <th>age</th>\n",
              "      <th>trestbps</th>\n",
              "      <th>chol</th>\n",
              "      <th>thalach</th>\n",
              "      <th>oldpeak</th>\n",
              "      <th>slope</th>\n",
              "      <th>target</th>\n",
              "      <th>sex_0</th>\n",
              "      <th>sex_1</th>\n",
              "      <th>cp_0</th>\n",
              "      <th>...</th>\n",
              "      <th>exang_1</th>\n",
              "      <th>ca_0</th>\n",
              "      <th>ca_1</th>\n",
              "      <th>ca_2</th>\n",
              "      <th>ca_3</th>\n",
              "      <th>thal_1</th>\n",
              "      <th>thal_2</th>\n",
              "      <th>thal_fixed</th>\n",
              "      <th>thal_normal</th>\n",
              "      <th>thal_reversible</th>\n",
              "    </tr>\n",
              "  </thead>\n",
              "  <tbody>\n",
              "    <tr>\n",
              "      <th>0</th>\n",
              "      <td>63</td>\n",
              "      <td>145</td>\n",
              "      <td>233</td>\n",
              "      <td>150</td>\n",
              "      <td>2.3</td>\n",
              "      <td>3</td>\n",
              "      <td>0</td>\n",
              "      <td>0</td>\n",
              "      <td>1</td>\n",
              "      <td>0</td>\n",
              "      <td>...</td>\n",
              "      <td>0</td>\n",
              "      <td>1</td>\n",
              "      <td>0</td>\n",
              "      <td>0</td>\n",
              "      <td>0</td>\n",
              "      <td>0</td>\n",
              "      <td>0</td>\n",
              "      <td>1</td>\n",
              "      <td>0</td>\n",
              "      <td>0</td>\n",
              "    </tr>\n",
              "    <tr>\n",
              "      <th>1</th>\n",
              "      <td>67</td>\n",
              "      <td>160</td>\n",
              "      <td>286</td>\n",
              "      <td>108</td>\n",
              "      <td>1.5</td>\n",
              "      <td>2</td>\n",
              "      <td>1</td>\n",
              "      <td>0</td>\n",
              "      <td>1</td>\n",
              "      <td>0</td>\n",
              "      <td>...</td>\n",
              "      <td>1</td>\n",
              "      <td>0</td>\n",
              "      <td>0</td>\n",
              "      <td>0</td>\n",
              "      <td>1</td>\n",
              "      <td>0</td>\n",
              "      <td>0</td>\n",
              "      <td>0</td>\n",
              "      <td>1</td>\n",
              "      <td>0</td>\n",
              "    </tr>\n",
              "    <tr>\n",
              "      <th>2</th>\n",
              "      <td>67</td>\n",
              "      <td>120</td>\n",
              "      <td>229</td>\n",
              "      <td>129</td>\n",
              "      <td>2.6</td>\n",
              "      <td>2</td>\n",
              "      <td>0</td>\n",
              "      <td>0</td>\n",
              "      <td>1</td>\n",
              "      <td>0</td>\n",
              "      <td>...</td>\n",
              "      <td>1</td>\n",
              "      <td>0</td>\n",
              "      <td>0</td>\n",
              "      <td>1</td>\n",
              "      <td>0</td>\n",
              "      <td>0</td>\n",
              "      <td>0</td>\n",
              "      <td>0</td>\n",
              "      <td>0</td>\n",
              "      <td>1</td>\n",
              "    </tr>\n",
              "    <tr>\n",
              "      <th>3</th>\n",
              "      <td>37</td>\n",
              "      <td>130</td>\n",
              "      <td>250</td>\n",
              "      <td>187</td>\n",
              "      <td>3.5</td>\n",
              "      <td>3</td>\n",
              "      <td>0</td>\n",
              "      <td>0</td>\n",
              "      <td>1</td>\n",
              "      <td>0</td>\n",
              "      <td>...</td>\n",
              "      <td>0</td>\n",
              "      <td>1</td>\n",
              "      <td>0</td>\n",
              "      <td>0</td>\n",
              "      <td>0</td>\n",
              "      <td>0</td>\n",
              "      <td>0</td>\n",
              "      <td>0</td>\n",
              "      <td>1</td>\n",
              "      <td>0</td>\n",
              "    </tr>\n",
              "    <tr>\n",
              "      <th>4</th>\n",
              "      <td>41</td>\n",
              "      <td>130</td>\n",
              "      <td>204</td>\n",
              "      <td>172</td>\n",
              "      <td>1.4</td>\n",
              "      <td>1</td>\n",
              "      <td>0</td>\n",
              "      <td>1</td>\n",
              "      <td>0</td>\n",
              "      <td>0</td>\n",
              "      <td>...</td>\n",
              "      <td>0</td>\n",
              "      <td>1</td>\n",
              "      <td>0</td>\n",
              "      <td>0</td>\n",
              "      <td>0</td>\n",
              "      <td>0</td>\n",
              "      <td>0</td>\n",
              "      <td>0</td>\n",
              "      <td>1</td>\n",
              "      <td>0</td>\n",
              "    </tr>\n",
              "  </tbody>\n",
              "</table>\n",
              "<p>5 rows × 30 columns</p>\n",
              "</div>\n",
              "      <button class=\"colab-df-convert\" onclick=\"convertToInteractive('df-f67fafa9-1de6-44ec-bb27-54933247395c')\"\n",
              "              title=\"Convert this dataframe to an interactive table.\"\n",
              "              style=\"display:none;\">\n",
              "        \n",
              "  <svg xmlns=\"http://www.w3.org/2000/svg\" height=\"24px\"viewBox=\"0 0 24 24\"\n",
              "       width=\"24px\">\n",
              "    <path d=\"M0 0h24v24H0V0z\" fill=\"none\"/>\n",
              "    <path d=\"M18.56 5.44l.94 2.06.94-2.06 2.06-.94-2.06-.94-.94-2.06-.94 2.06-2.06.94zm-11 1L8.5 8.5l.94-2.06 2.06-.94-2.06-.94L8.5 2.5l-.94 2.06-2.06.94zm10 10l.94 2.06.94-2.06 2.06-.94-2.06-.94-.94-2.06-.94 2.06-2.06.94z\"/><path d=\"M17.41 7.96l-1.37-1.37c-.4-.4-.92-.59-1.43-.59-.52 0-1.04.2-1.43.59L10.3 9.45l-7.72 7.72c-.78.78-.78 2.05 0 2.83L4 21.41c.39.39.9.59 1.41.59.51 0 1.02-.2 1.41-.59l7.78-7.78 2.81-2.81c.8-.78.8-2.07 0-2.86zM5.41 20L4 18.59l7.72-7.72 1.47 1.35L5.41 20z\"/>\n",
              "  </svg>\n",
              "      </button>\n",
              "      \n",
              "  <style>\n",
              "    .colab-df-container {\n",
              "      display:flex;\n",
              "      flex-wrap:wrap;\n",
              "      gap: 12px;\n",
              "    }\n",
              "\n",
              "    .colab-df-convert {\n",
              "      background-color: #E8F0FE;\n",
              "      border: none;\n",
              "      border-radius: 50%;\n",
              "      cursor: pointer;\n",
              "      display: none;\n",
              "      fill: #1967D2;\n",
              "      height: 32px;\n",
              "      padding: 0 0 0 0;\n",
              "      width: 32px;\n",
              "    }\n",
              "\n",
              "    .colab-df-convert:hover {\n",
              "      background-color: #E2EBFA;\n",
              "      box-shadow: 0px 1px 2px rgba(60, 64, 67, 0.3), 0px 1px 3px 1px rgba(60, 64, 67, 0.15);\n",
              "      fill: #174EA6;\n",
              "    }\n",
              "\n",
              "    [theme=dark] .colab-df-convert {\n",
              "      background-color: #3B4455;\n",
              "      fill: #D2E3FC;\n",
              "    }\n",
              "\n",
              "    [theme=dark] .colab-df-convert:hover {\n",
              "      background-color: #434B5C;\n",
              "      box-shadow: 0px 1px 3px 1px rgba(0, 0, 0, 0.15);\n",
              "      filter: drop-shadow(0px 1px 2px rgba(0, 0, 0, 0.3));\n",
              "      fill: #FFFFFF;\n",
              "    }\n",
              "  </style>\n",
              "\n",
              "      <script>\n",
              "        const buttonEl =\n",
              "          document.querySelector('#df-f67fafa9-1de6-44ec-bb27-54933247395c button.colab-df-convert');\n",
              "        buttonEl.style.display =\n",
              "          google.colab.kernel.accessAllowed ? 'block' : 'none';\n",
              "\n",
              "        async function convertToInteractive(key) {\n",
              "          const element = document.querySelector('#df-f67fafa9-1de6-44ec-bb27-54933247395c');\n",
              "          const dataTable =\n",
              "            await google.colab.kernel.invokeFunction('convertToInteractive',\n",
              "                                                     [key], {});\n",
              "          if (!dataTable) return;\n",
              "\n",
              "          const docLinkHtml = 'Like what you see? Visit the ' +\n",
              "            '<a target=\"_blank\" href=https://colab.research.google.com/notebooks/data_table.ipynb>data table notebook</a>'\n",
              "            + ' to learn more about interactive tables.';\n",
              "          element.innerHTML = '';\n",
              "          dataTable['output_type'] = 'display_data';\n",
              "          await google.colab.output.renderOutput(dataTable, element);\n",
              "          const docLink = document.createElement('div');\n",
              "          docLink.innerHTML = docLinkHtml;\n",
              "          element.appendChild(docLink);\n",
              "        }\n",
              "      </script>\n",
              "    </div>\n",
              "  </div>\n",
              "  "
            ]
          },
          "metadata": {},
          "execution_count": 7
        }
      ]
    },
    {
      "cell_type": "markdown",
      "metadata": {
        "id": "CK3j-Baa8pgs"
      },
      "source": [
        "\n",
        "Before we normalize the numerics, let's split the data into an 80% training set and 20% test set (*why should we split **before** normalization?*)."
      ]
    },
    {
      "cell_type": "code",
      "execution_count": 8,
      "metadata": {
        "id": "B1aHFYse8pgs"
      },
      "outputs": [],
      "source": [
        "test_df = df.sample(frac=0.2, random_state=42)\n",
        "train_df = df.drop(test_df.index)"
      ]
    },
    {
      "cell_type": "code",
      "source": [
        "train_df.shape"
      ],
      "metadata": {
        "colab": {
          "base_uri": "https://localhost:8080/"
        },
        "id": "UiTJwFySfphD",
        "outputId": "4c2a85cc-7f5c-4e9a-ad52-664258d7b074"
      },
      "execution_count": 9,
      "outputs": [
        {
          "output_type": "execute_result",
          "data": {
            "text/plain": [
              "(242, 30)"
            ]
          },
          "metadata": {},
          "execution_count": 9
        }
      ]
    },
    {
      "cell_type": "code",
      "source": [
        "test_df.shape"
      ],
      "metadata": {
        "colab": {
          "base_uri": "https://localhost:8080/"
        },
        "id": "LpxTky1ONepp",
        "outputId": "1822ae40-d4fc-482b-b8df-bc8656111950"
      },
      "execution_count": 10,
      "outputs": [
        {
          "output_type": "execute_result",
          "data": {
            "text/plain": [
              "(61, 30)"
            ]
          },
          "metadata": {},
          "execution_count": 10
        }
      ]
    },
    {
      "cell_type": "markdown",
      "source": [
        "OK, let's calculate the mean and standard deviation of every numeric variable in the training set."
      ],
      "metadata": {
        "id": "UwrTlwA3NhuV"
      }
    },
    {
      "cell_type": "code",
      "source": [
        "means = train_df[numerics].mean()\n",
        "sd = train_df[numerics].std()"
      ],
      "metadata": {
        "id": "thKdv04AZfhz"
      },
      "execution_count": 11,
      "outputs": []
    },
    {
      "cell_type": "code",
      "source": [
        "means"
      ],
      "metadata": {
        "colab": {
          "base_uri": "https://localhost:8080/"
        },
        "id": "jMUE8D9Jfuv7",
        "outputId": "ed8bc2a9-106b-47e6-946e-52531192c61a"
      },
      "execution_count": 12,
      "outputs": [
        {
          "output_type": "execute_result",
          "data": {
            "text/plain": [
              "age          54.268595\n",
              "trestbps    131.995868\n",
              "chol        246.512397\n",
              "thalach     149.805785\n",
              "oldpeak       1.032645\n",
              "slope         1.590909\n",
              "dtype: float64"
            ]
          },
          "metadata": {},
          "execution_count": 12
        }
      ]
    },
    {
      "cell_type": "markdown",
      "source": [
        "Let's standardize the train and test dataframes with these means and standard deviations."
      ],
      "metadata": {
        "id": "L1YP45i4Zfzx"
      }
    },
    {
      "cell_type": "code",
      "source": [
        "train_df[numerics]= (train_df[numerics] - means)/sd"
      ],
      "metadata": {
        "id": "LPtsJD6jZ5E4"
      },
      "execution_count": 13,
      "outputs": []
    },
    {
      "cell_type": "code",
      "source": [
        "test_df[numerics]= (test_df[numerics] - means)/sd"
      ],
      "metadata": {
        "id": "hqzdrYJbaHT8"
      },
      "execution_count": 14,
      "outputs": []
    },
    {
      "cell_type": "code",
      "source": [
        "train_df.head()"
      ],
      "metadata": {
        "colab": {
          "base_uri": "https://localhost:8080/",
          "height": 236
        },
        "id": "y5jErgL5fycw",
        "outputId": "d277c538-42bd-47ff-c010-b84412ff302d"
      },
      "execution_count": 15,
      "outputs": [
        {
          "output_type": "execute_result",
          "data": {
            "text/plain": [
              "        age  trestbps      chol   thalach   oldpeak     slope  target  sex_0  \\\n",
              "0  0.963746  0.721939 -0.278690  0.008396  1.083461  2.226814       0      0   \n",
              "1  1.405254  1.554681  0.814423 -1.807247  0.399542  0.646494       1      0   \n",
              "2  1.405254 -0.665964 -0.361189 -0.899426  1.339930  0.646494       0      0   \n",
              "3 -1.906055 -0.110803  0.071931  1.607891  2.109339  2.226814       0      0   \n",
              "4 -1.464547 -0.110803 -0.876809  0.959447  0.314052 -0.933825       0      1   \n",
              "\n",
              "   sex_1  cp_0  ...  exang_1  ca_0  ca_1  ca_2  ca_3  thal_1  thal_2  \\\n",
              "0      1     0  ...        0     1     0     0     0       0       0   \n",
              "1      1     0  ...        1     0     0     0     1       0       0   \n",
              "2      1     0  ...        1     0     0     1     0       0       0   \n",
              "3      1     0  ...        0     1     0     0     0       0       0   \n",
              "4      0     0  ...        0     1     0     0     0       0       0   \n",
              "\n",
              "   thal_fixed  thal_normal  thal_reversible  \n",
              "0           1            0                0  \n",
              "1           0            1                0  \n",
              "2           0            0                1  \n",
              "3           0            1                0  \n",
              "4           0            1                0  \n",
              "\n",
              "[5 rows x 30 columns]"
            ],
            "text/html": [
              "\n",
              "  <div id=\"df-25347bac-e065-403b-a151-0e810cf4ac3d\">\n",
              "    <div class=\"colab-df-container\">\n",
              "      <div>\n",
              "<style scoped>\n",
              "    .dataframe tbody tr th:only-of-type {\n",
              "        vertical-align: middle;\n",
              "    }\n",
              "\n",
              "    .dataframe tbody tr th {\n",
              "        vertical-align: top;\n",
              "    }\n",
              "\n",
              "    .dataframe thead th {\n",
              "        text-align: right;\n",
              "    }\n",
              "</style>\n",
              "<table border=\"1\" class=\"dataframe\">\n",
              "  <thead>\n",
              "    <tr style=\"text-align: right;\">\n",
              "      <th></th>\n",
              "      <th>age</th>\n",
              "      <th>trestbps</th>\n",
              "      <th>chol</th>\n",
              "      <th>thalach</th>\n",
              "      <th>oldpeak</th>\n",
              "      <th>slope</th>\n",
              "      <th>target</th>\n",
              "      <th>sex_0</th>\n",
              "      <th>sex_1</th>\n",
              "      <th>cp_0</th>\n",
              "      <th>...</th>\n",
              "      <th>exang_1</th>\n",
              "      <th>ca_0</th>\n",
              "      <th>ca_1</th>\n",
              "      <th>ca_2</th>\n",
              "      <th>ca_3</th>\n",
              "      <th>thal_1</th>\n",
              "      <th>thal_2</th>\n",
              "      <th>thal_fixed</th>\n",
              "      <th>thal_normal</th>\n",
              "      <th>thal_reversible</th>\n",
              "    </tr>\n",
              "  </thead>\n",
              "  <tbody>\n",
              "    <tr>\n",
              "      <th>0</th>\n",
              "      <td>0.963746</td>\n",
              "      <td>0.721939</td>\n",
              "      <td>-0.278690</td>\n",
              "      <td>0.008396</td>\n",
              "      <td>1.083461</td>\n",
              "      <td>2.226814</td>\n",
              "      <td>0</td>\n",
              "      <td>0</td>\n",
              "      <td>1</td>\n",
              "      <td>0</td>\n",
              "      <td>...</td>\n",
              "      <td>0</td>\n",
              "      <td>1</td>\n",
              "      <td>0</td>\n",
              "      <td>0</td>\n",
              "      <td>0</td>\n",
              "      <td>0</td>\n",
              "      <td>0</td>\n",
              "      <td>1</td>\n",
              "      <td>0</td>\n",
              "      <td>0</td>\n",
              "    </tr>\n",
              "    <tr>\n",
              "      <th>1</th>\n",
              "      <td>1.405254</td>\n",
              "      <td>1.554681</td>\n",
              "      <td>0.814423</td>\n",
              "      <td>-1.807247</td>\n",
              "      <td>0.399542</td>\n",
              "      <td>0.646494</td>\n",
              "      <td>1</td>\n",
              "      <td>0</td>\n",
              "      <td>1</td>\n",
              "      <td>0</td>\n",
              "      <td>...</td>\n",
              "      <td>1</td>\n",
              "      <td>0</td>\n",
              "      <td>0</td>\n",
              "      <td>0</td>\n",
              "      <td>1</td>\n",
              "      <td>0</td>\n",
              "      <td>0</td>\n",
              "      <td>0</td>\n",
              "      <td>1</td>\n",
              "      <td>0</td>\n",
              "    </tr>\n",
              "    <tr>\n",
              "      <th>2</th>\n",
              "      <td>1.405254</td>\n",
              "      <td>-0.665964</td>\n",
              "      <td>-0.361189</td>\n",
              "      <td>-0.899426</td>\n",
              "      <td>1.339930</td>\n",
              "      <td>0.646494</td>\n",
              "      <td>0</td>\n",
              "      <td>0</td>\n",
              "      <td>1</td>\n",
              "      <td>0</td>\n",
              "      <td>...</td>\n",
              "      <td>1</td>\n",
              "      <td>0</td>\n",
              "      <td>0</td>\n",
              "      <td>1</td>\n",
              "      <td>0</td>\n",
              "      <td>0</td>\n",
              "      <td>0</td>\n",
              "      <td>0</td>\n",
              "      <td>0</td>\n",
              "      <td>1</td>\n",
              "    </tr>\n",
              "    <tr>\n",
              "      <th>3</th>\n",
              "      <td>-1.906055</td>\n",
              "      <td>-0.110803</td>\n",
              "      <td>0.071931</td>\n",
              "      <td>1.607891</td>\n",
              "      <td>2.109339</td>\n",
              "      <td>2.226814</td>\n",
              "      <td>0</td>\n",
              "      <td>0</td>\n",
              "      <td>1</td>\n",
              "      <td>0</td>\n",
              "      <td>...</td>\n",
              "      <td>0</td>\n",
              "      <td>1</td>\n",
              "      <td>0</td>\n",
              "      <td>0</td>\n",
              "      <td>0</td>\n",
              "      <td>0</td>\n",
              "      <td>0</td>\n",
              "      <td>0</td>\n",
              "      <td>1</td>\n",
              "      <td>0</td>\n",
              "    </tr>\n",
              "    <tr>\n",
              "      <th>4</th>\n",
              "      <td>-1.464547</td>\n",
              "      <td>-0.110803</td>\n",
              "      <td>-0.876809</td>\n",
              "      <td>0.959447</td>\n",
              "      <td>0.314052</td>\n",
              "      <td>-0.933825</td>\n",
              "      <td>0</td>\n",
              "      <td>1</td>\n",
              "      <td>0</td>\n",
              "      <td>0</td>\n",
              "      <td>...</td>\n",
              "      <td>0</td>\n",
              "      <td>1</td>\n",
              "      <td>0</td>\n",
              "      <td>0</td>\n",
              "      <td>0</td>\n",
              "      <td>0</td>\n",
              "      <td>0</td>\n",
              "      <td>0</td>\n",
              "      <td>1</td>\n",
              "      <td>0</td>\n",
              "    </tr>\n",
              "  </tbody>\n",
              "</table>\n",
              "<p>5 rows × 30 columns</p>\n",
              "</div>\n",
              "      <button class=\"colab-df-convert\" onclick=\"convertToInteractive('df-25347bac-e065-403b-a151-0e810cf4ac3d')\"\n",
              "              title=\"Convert this dataframe to an interactive table.\"\n",
              "              style=\"display:none;\">\n",
              "        \n",
              "  <svg xmlns=\"http://www.w3.org/2000/svg\" height=\"24px\"viewBox=\"0 0 24 24\"\n",
              "       width=\"24px\">\n",
              "    <path d=\"M0 0h24v24H0V0z\" fill=\"none\"/>\n",
              "    <path d=\"M18.56 5.44l.94 2.06.94-2.06 2.06-.94-2.06-.94-.94-2.06-.94 2.06-2.06.94zm-11 1L8.5 8.5l.94-2.06 2.06-.94-2.06-.94L8.5 2.5l-.94 2.06-2.06.94zm10 10l.94 2.06.94-2.06 2.06-.94-2.06-.94-.94-2.06-.94 2.06-2.06.94z\"/><path d=\"M17.41 7.96l-1.37-1.37c-.4-.4-.92-.59-1.43-.59-.52 0-1.04.2-1.43.59L10.3 9.45l-7.72 7.72c-.78.78-.78 2.05 0 2.83L4 21.41c.39.39.9.59 1.41.59.51 0 1.02-.2 1.41-.59l7.78-7.78 2.81-2.81c.8-.78.8-2.07 0-2.86zM5.41 20L4 18.59l7.72-7.72 1.47 1.35L5.41 20z\"/>\n",
              "  </svg>\n",
              "      </button>\n",
              "      \n",
              "  <style>\n",
              "    .colab-df-container {\n",
              "      display:flex;\n",
              "      flex-wrap:wrap;\n",
              "      gap: 12px;\n",
              "    }\n",
              "\n",
              "    .colab-df-convert {\n",
              "      background-color: #E8F0FE;\n",
              "      border: none;\n",
              "      border-radius: 50%;\n",
              "      cursor: pointer;\n",
              "      display: none;\n",
              "      fill: #1967D2;\n",
              "      height: 32px;\n",
              "      padding: 0 0 0 0;\n",
              "      width: 32px;\n",
              "    }\n",
              "\n",
              "    .colab-df-convert:hover {\n",
              "      background-color: #E2EBFA;\n",
              "      box-shadow: 0px 1px 2px rgba(60, 64, 67, 0.3), 0px 1px 3px 1px rgba(60, 64, 67, 0.15);\n",
              "      fill: #174EA6;\n",
              "    }\n",
              "\n",
              "    [theme=dark] .colab-df-convert {\n",
              "      background-color: #3B4455;\n",
              "      fill: #D2E3FC;\n",
              "    }\n",
              "\n",
              "    [theme=dark] .colab-df-convert:hover {\n",
              "      background-color: #434B5C;\n",
              "      box-shadow: 0px 1px 3px 1px rgba(0, 0, 0, 0.15);\n",
              "      filter: drop-shadow(0px 1px 2px rgba(0, 0, 0, 0.3));\n",
              "      fill: #FFFFFF;\n",
              "    }\n",
              "  </style>\n",
              "\n",
              "      <script>\n",
              "        const buttonEl =\n",
              "          document.querySelector('#df-25347bac-e065-403b-a151-0e810cf4ac3d button.colab-df-convert');\n",
              "        buttonEl.style.display =\n",
              "          google.colab.kernel.accessAllowed ? 'block' : 'none';\n",
              "\n",
              "        async function convertToInteractive(key) {\n",
              "          const element = document.querySelector('#df-25347bac-e065-403b-a151-0e810cf4ac3d');\n",
              "          const dataTable =\n",
              "            await google.colab.kernel.invokeFunction('convertToInteractive',\n",
              "                                                     [key], {});\n",
              "          if (!dataTable) return;\n",
              "\n",
              "          const docLinkHtml = 'Like what you see? Visit the ' +\n",
              "            '<a target=\"_blank\" href=https://colab.research.google.com/notebooks/data_table.ipynb>data table notebook</a>'\n",
              "            + ' to learn more about interactive tables.';\n",
              "          element.innerHTML = '';\n",
              "          dataTable['output_type'] = 'display_data';\n",
              "          await google.colab.output.renderOutput(dataTable, element);\n",
              "          const docLink = document.createElement('div');\n",
              "          docLink.innerHTML = docLinkHtml;\n",
              "          element.appendChild(docLink);\n",
              "        }\n",
              "      </script>\n",
              "    </div>\n",
              "  </div>\n",
              "  "
            ]
          },
          "metadata": {},
          "execution_count": 15
        }
      ]
    },
    {
      "cell_type": "markdown",
      "source": [
        "The easiest way to feed data to Keras/Tensorflow is as Numpy arrays so we convert our two dataframes."
      ],
      "metadata": {
        "id": "jxB_UeNMN6Al"
      }
    },
    {
      "cell_type": "code",
      "source": [
        "train = train_df.to_numpy()\n",
        "test = test_df.to_numpy()"
      ],
      "metadata": {
        "id": "0ivSr2kzW6tY"
      },
      "execution_count": 16,
      "outputs": []
    },
    {
      "cell_type": "markdown",
      "source": [
        "At this point, our features $X$ and dependent variable $y$ are both inside the arrays so let's separate them out.\n",
        "\n",
        "**There's a bug in the code below. See if you can spot it.**"
      ],
      "metadata": {
        "id": "ugk7qXIXON5V"
      }
    },
    {
      "cell_type": "code",
      "source": [
        "train_X = train[:,: -1]\n",
        "train_y = train[:, -1]\n",
        "test_X = test[:,: -1]\n",
        "test_y = test[:, -1]"
      ],
      "metadata": {
        "id": "ieb-7302dqmc"
      },
      "execution_count": 17,
      "outputs": []
    },
    {
      "cell_type": "markdown",
      "source": [
        "Select the right target column (the bug-free version)"
      ],
      "metadata": {
        "id": "95fL1gxgqRE2"
      }
    },
    {
      "cell_type": "code",
      "source": [
        "target = 6\n",
        "features = list(range(train.shape[1]))\n",
        "features.remove(target)\n",
        "\n",
        "train_X = train[:, features]\n",
        "train_y = train[:, target]\n",
        "test_X = test[:, features]\n",
        "test_y = test[:, target]"
      ],
      "metadata": {
        "id": "FtkKhfYkqKlZ"
      },
      "execution_count": 18,
      "outputs": []
    },
    {
      "cell_type": "code",
      "source": [
        "train_X.shape, train_y.shape"
      ],
      "metadata": {
        "colab": {
          "base_uri": "https://localhost:8080/"
        },
        "id": "YcHmVPMIaS-E",
        "outputId": "556cbb64-53f3-463c-f2c4-cc6f1ddaf8e9"
      },
      "execution_count": 19,
      "outputs": [
        {
          "output_type": "execute_result",
          "data": {
            "text/plain": [
              "((242, 29), (242,))"
            ]
          },
          "metadata": {},
          "execution_count": 19
        }
      ]
    },
    {
      "cell_type": "code",
      "source": [
        "test_X.shape, test_y.shape\n"
      ],
      "metadata": {
        "colab": {
          "base_uri": "https://localhost:8080/"
        },
        "id": "1uYWRkHIa3mL",
        "outputId": "bddcdd0b-1df0-49fa-dfdf-535f6f787bdb"
      },
      "execution_count": 20,
      "outputs": [
        {
          "output_type": "execute_result",
          "data": {
            "text/plain": [
              "((61, 29), (61,))"
            ]
          },
          "metadata": {},
          "execution_count": 20
        }
      ]
    },
    {
      "cell_type": "markdown",
      "metadata": {
        "id": "p0wrFZ9o8pgv"
      },
      "source": [
        "## Build a model\n"
      ]
    },
    {
      "cell_type": "markdown",
      "source": [
        "\n",
        "### Define model in Keras\n",
        "\n",
        "Creating an NN  is usually just a few lines of Keras code. \n",
        "\n",
        "* We will start with a single hidden layer. \n",
        "* Since this is a *binary classification problem*, we will use a sigmoid activation in the output layer."
      ],
      "metadata": {
        "id": "Gh4MNTIjreyL"
      }
    },
    {
      "cell_type": "code",
      "execution_count": 21,
      "metadata": {
        "id": "69p4o0lR8pgv"
      },
      "outputs": [],
      "source": [
        "num_columns = train_X.shape[1]\n",
        "\n",
        "# define the input layer\n",
        "input = keras.Input(shape=num_columns)\n",
        "\n",
        "# feed the input vector to the hidden layer\n",
        "h = keras.layers.Dense(16, activation=\"relu\", name=\"Hidden\")(input)\n",
        "\n",
        "# feed the output of the hidden layer to the output layer\n",
        "output = keras.layers.Dense(1, activation=\"sigmoid\", name=\"Output\")(h)\n",
        "\n",
        "# tell Keras that this (input,output) pair is your model\n",
        "model = keras.Model(input, output)"
      ]
    },
    {
      "cell_type": "markdown",
      "source": [
        "The `model.summary()` command is a good way to get a quick overview of what you have defined."
      ],
      "metadata": {
        "id": "coJALvJfPZPl"
      }
    },
    {
      "cell_type": "code",
      "source": [
        "model.summary()"
      ],
      "metadata": {
        "colab": {
          "base_uri": "https://localhost:8080/"
        },
        "id": "tUL_yaaIbGVN",
        "outputId": "8f660cd9-a9b7-4ed0-8fc6-aa6d8fdb2d2d"
      },
      "execution_count": 22,
      "outputs": [
        {
          "output_type": "stream",
          "name": "stdout",
          "text": [
            "Model: \"model\"\n",
            "_________________________________________________________________\n",
            " Layer (type)                Output Shape              Param #   \n",
            "=================================================================\n",
            " input_1 (InputLayer)        [(None, 29)]              0         \n",
            "                                                                 \n",
            " Hidden (Dense)              (None, 16)                480       \n",
            "                                                                 \n",
            " Output (Dense)              (None, 1)                 17        \n",
            "                                                                 \n",
            "=================================================================\n",
            "Total params: 497\n",
            "Trainable params: 497\n",
            "Non-trainable params: 0\n",
            "_________________________________________________________________\n"
          ]
        }
      ]
    },
    {
      "cell_type": "markdown",
      "source": [
        "We can \"visualize\" the network graphically as well using Keras' `plot_model` function."
      ],
      "metadata": {
        "id": "lfsdY6h5QBbV"
      }
    },
    {
      "cell_type": "code",
      "execution_count": 23,
      "metadata": {
        "id": "uHfYbbKD8pgv",
        "colab": {
          "base_uri": "https://localhost:8080/",
          "height": 312
        },
        "outputId": "88c0fd0f-5f70-4821-8e2b-4fc881f8bf1e"
      },
      "outputs": [
        {
          "output_type": "execute_result",
          "data": {
            "image/png": "[encoded data removed]",
            "text/plain": [
              "<IPython.core.display.Image object>"
            ]
          },
          "metadata": {},
          "execution_count": 23
        }
      ],
      "source": [
        "keras.utils.plot_model(model, show_shapes=True)"
      ]
    },
    {
      "cell_type": "markdown",
      "source": [
        "Let's hand-calculate the number of parameters to verify."
      ],
      "metadata": {
        "id": "3Rtoj4OuPzVw"
      }
    },
    {
      "cell_type": "code",
      "source": [
        "(29 * 16 + 16) + (16 * 1 + 1)"
      ],
      "metadata": {
        "colab": {
          "base_uri": "https://localhost:8080/"
        },
        "id": "e_FpjV_1PiRP",
        "outputId": "92a92889-5fba-4c9f-866e-92ee7a08aea5"
      },
      "execution_count": null,
      "outputs": [
        {
          "output_type": "execute_result",
          "data": {
            "text/plain": [
              "497"
            ]
          },
          "metadata": {},
          "execution_count": 23
        }
      ]
    },
    {
      "cell_type": "markdown",
      "source": [
        "### Set optimization parameters"
      ],
      "metadata": {
        "id": "Igf5bWCZQG8E"
      }
    },
    {
      "cell_type": "markdown",
      "source": [
        "Now that the model is defined, we need to tell Keras three things:\n",
        "\n",
        "*   What **loss function** to use - Since our output variable is binary, we will select the `binary_crossentropy` loss function. \n",
        "*   Which **optimizer** to use - we will use a sibling of SGD called **Adam** which is an excellent default choice \n",
        "*   What **metrics** you want Keras to report out - in classification problems like this one, Accuracy is usually the metric you want to see."
      ],
      "metadata": {
        "id": "vaNfhfuAQIkZ"
      }
    },
    {
      "cell_type": "code",
      "source": [
        "model.compile(optimizer=\"adam\",\n",
        "              loss=\"binary_crossentropy\",\n",
        "              metrics=[\"accuracy\"])"
      ],
      "metadata": {
        "id": "RiJgZpm2PxDi"
      },
      "execution_count": 24,
      "outputs": []
    },
    {
      "cell_type": "markdown",
      "source": [
        "## Train the model\n",
        "\n",
        "To kickoff training, we have to decide on three things:\n",
        "* The *batch size* - 32 is a good default\n",
        "* The number of *epochs* i.e., how many passes through the training data. Usually 20-30 epochs is a good starting point but since this dataset is very small, each epoch will be very quick so let's run it for 300 epochs. It will allow us to see if any overfitting happens\n",
        "* Whether we want to use a validation set. This will be useful for overfitting detection and regularization via early stopping so we will ask Keras to automatically use 20% of the data points as a validation set"
      ],
      "metadata": {
        "id": "8_gDdeqiQUeN"
      }
    },
    {
      "cell_type": "markdown",
      "metadata": {
        "id": "wPZFylPP8pgw"
      },
      "source": [
        "OK, let's train the model using the `model.fit` function!"
      ]
    },
    {
      "cell_type": "code",
      "execution_count": 26,
      "metadata": {
        "id": "mo71UEBf8pgw",
        "colab": {
          "base_uri": "https://localhost:8080/"
        },
        "outputId": "95213d48-af64-48de-c2c1-0cf768171921"
      },
      "outputs": [
        {
          "output_type": "stream",
          "name": "stdout",
          "text": [
            "Epoch 1/300\n",
            "7/7 [==============================] - 5s 53ms/step - loss: 0.7154 - accuracy: 0.5596 - val_loss: 0.6891 - val_accuracy: 0.5918\n",
            "Epoch 2/300\n",
            "7/7 [==============================] - 0s 10ms/step - loss: 0.6831 - accuracy: 0.6010 - val_loss: 0.6691 - val_accuracy: 0.6122\n",
            "Epoch 3/300\n",
            "7/7 [==============================] - 0s 13ms/step - loss: 0.6581 - accuracy: 0.6425 - val_loss: 0.6502 - val_accuracy: 0.6122\n",
            "Epoch 4/300\n",
            "7/7 [==============================] - 0s 11ms/step - loss: 0.6345 - accuracy: 0.6736 - val_loss: 0.6329 - val_accuracy: 0.6531\n",
            "Epoch 5/300\n",
            "7/7 [==============================] - 0s 13ms/step - loss: 0.6137 - accuracy: 0.6943 - val_loss: 0.6191 - val_accuracy: 0.6531\n",
            "Epoch 6/300\n",
            "7/7 [==============================] - 0s 13ms/step - loss: 0.5961 - accuracy: 0.7254 - val_loss: 0.6063 - val_accuracy: 0.6735\n",
            "Epoch 7/300\n",
            "7/7 [==============================] - 0s 13ms/step - loss: 0.5798 - accuracy: 0.7306 - val_loss: 0.5952 - val_accuracy: 0.6939\n",
            "Epoch 8/300\n",
            "7/7 [==============================] - 0s 11ms/step - loss: 0.5651 - accuracy: 0.7358 - val_loss: 0.5849 - val_accuracy: 0.6939\n",
            "Epoch 9/300\n",
            "7/7 [==============================] - 0s 13ms/step - loss: 0.5514 - accuracy: 0.7409 - val_loss: 0.5739 - val_accuracy: 0.7143\n",
            "Epoch 10/300\n",
            "7/7 [==============================] - 0s 13ms/step - loss: 0.5358 - accuracy: 0.7513 - val_loss: 0.5619 - val_accuracy: 0.7143\n",
            "Epoch 11/300\n",
            "7/7 [==============================] - 0s 13ms/step - loss: 0.5205 - accuracy: 0.7513 - val_loss: 0.5505 - val_accuracy: 0.6939\n",
            "Epoch 12/300\n",
            "7/7 [==============================] - 0s 12ms/step - loss: 0.5058 - accuracy: 0.7668 - val_loss: 0.5403 - val_accuracy: 0.7143\n",
            "Epoch 13/300\n",
            "7/7 [==============================] - 0s 13ms/step - loss: 0.4925 - accuracy: 0.7720 - val_loss: 0.5300 - val_accuracy: 0.7143\n",
            "Epoch 14/300\n",
            "7/7 [==============================] - 0s 13ms/step - loss: 0.4798 - accuracy: 0.7668 - val_loss: 0.5198 - val_accuracy: 0.7347\n",
            "Epoch 15/300\n",
            "7/7 [==============================] - 0s 14ms/step - loss: 0.4670 - accuracy: 0.7617 - val_loss: 0.5099 - val_accuracy: 0.7347\n",
            "Epoch 16/300\n",
            "7/7 [==============================] - 0s 14ms/step - loss: 0.4545 - accuracy: 0.7720 - val_loss: 0.5007 - val_accuracy: 0.7959\n",
            "Epoch 17/300\n",
            "7/7 [==============================] - 0s 14ms/step - loss: 0.4427 - accuracy: 0.7668 - val_loss: 0.4924 - val_accuracy: 0.7755\n",
            "Epoch 18/300\n",
            "7/7 [==============================] - 0s 13ms/step - loss: 0.4323 - accuracy: 0.7668 - val_loss: 0.4851 - val_accuracy: 0.7755\n",
            "Epoch 19/300\n",
            "7/7 [==============================] - 0s 11ms/step - loss: 0.4234 - accuracy: 0.7617 - val_loss: 0.4780 - val_accuracy: 0.7755\n",
            "Epoch 20/300\n",
            "7/7 [==============================] - 0s 11ms/step - loss: 0.4141 - accuracy: 0.7772 - val_loss: 0.4721 - val_accuracy: 0.7755\n",
            "Epoch 21/300\n",
            "7/7 [==============================] - 0s 10ms/step - loss: 0.4059 - accuracy: 0.7876 - val_loss: 0.4658 - val_accuracy: 0.7755\n",
            "Epoch 22/300\n",
            "7/7 [==============================] - 0s 8ms/step - loss: 0.3974 - accuracy: 0.7927 - val_loss: 0.4598 - val_accuracy: 0.7755\n",
            "Epoch 23/300\n",
            "7/7 [==============================] - 0s 10ms/step - loss: 0.3903 - accuracy: 0.7979 - val_loss: 0.4547 - val_accuracy: 0.7755\n",
            "Epoch 24/300\n",
            "7/7 [==============================] - 0s 8ms/step - loss: 0.3831 - accuracy: 0.8083 - val_loss: 0.4510 - val_accuracy: 0.7755\n",
            "Epoch 25/300\n",
            "7/7 [==============================] - 0s 8ms/step - loss: 0.3763 - accuracy: 0.8083 - val_loss: 0.4474 - val_accuracy: 0.7755\n",
            "Epoch 26/300\n",
            "7/7 [==============================] - 0s 8ms/step - loss: 0.3704 - accuracy: 0.8238 - val_loss: 0.4445 - val_accuracy: 0.7959\n",
            "Epoch 27/300\n",
            "7/7 [==============================] - 0s 8ms/step - loss: 0.3656 - accuracy: 0.8238 - val_loss: 0.4416 - val_accuracy: 0.7959\n",
            "Epoch 28/300\n",
            "7/7 [==============================] - 0s 10ms/step - loss: 0.3608 - accuracy: 0.8342 - val_loss: 0.4384 - val_accuracy: 0.7959\n",
            "Epoch 29/300\n",
            "7/7 [==============================] - 0s 10ms/step - loss: 0.3553 - accuracy: 0.8446 - val_loss: 0.4350 - val_accuracy: 0.7959\n",
            "Epoch 30/300\n",
            "7/7 [==============================] - 0s 7ms/step - loss: 0.3508 - accuracy: 0.8394 - val_loss: 0.4316 - val_accuracy: 0.7959\n",
            "Epoch 31/300\n",
            "7/7 [==============================] - 0s 10ms/step - loss: 0.3465 - accuracy: 0.8394 - val_loss: 0.4300 - val_accuracy: 0.7959\n",
            "Epoch 32/300\n",
            "7/7 [==============================] - 0s 8ms/step - loss: 0.3435 - accuracy: 0.8446 - val_loss: 0.4281 - val_accuracy: 0.7755\n",
            "Epoch 33/300\n",
            "7/7 [==============================] - 0s 11ms/step - loss: 0.3394 - accuracy: 0.8549 - val_loss: 0.4256 - val_accuracy: 0.7755\n",
            "Epoch 34/300\n",
            "7/7 [==============================] - 0s 10ms/step - loss: 0.3357 - accuracy: 0.8549 - val_loss: 0.4229 - val_accuracy: 0.7551\n",
            "Epoch 35/300\n",
            "7/7 [==============================] - 0s 8ms/step - loss: 0.3316 - accuracy: 0.8549 - val_loss: 0.4207 - val_accuracy: 0.7551\n",
            "Epoch 36/300\n",
            "7/7 [==============================] - 0s 11ms/step - loss: 0.3273 - accuracy: 0.8601 - val_loss: 0.4207 - val_accuracy: 0.7551\n",
            "Epoch 37/300\n",
            "7/7 [==============================] - 0s 8ms/step - loss: 0.3235 - accuracy: 0.8756 - val_loss: 0.4210 - val_accuracy: 0.7551\n",
            "Epoch 38/300\n",
            "7/7 [==============================] - 0s 7ms/step - loss: 0.3212 - accuracy: 0.8808 - val_loss: 0.4196 - val_accuracy: 0.7551\n",
            "Epoch 39/300\n",
            "7/7 [==============================] - 0s 10ms/step - loss: 0.3176 - accuracy: 0.8808 - val_loss: 0.4174 - val_accuracy: 0.7551\n",
            "Epoch 40/300\n",
            "7/7 [==============================] - 0s 8ms/step - loss: 0.3143 - accuracy: 0.8808 - val_loss: 0.4156 - val_accuracy: 0.7551\n",
            "Epoch 41/300\n",
            "7/7 [==============================] - 0s 9ms/step - loss: 0.3111 - accuracy: 0.8808 - val_loss: 0.4142 - val_accuracy: 0.7551\n",
            "Epoch 42/300\n",
            "7/7 [==============================] - 0s 7ms/step - loss: 0.3084 - accuracy: 0.8808 - val_loss: 0.4133 - val_accuracy: 0.7551\n",
            "Epoch 43/300\n",
            "7/7 [==============================] - 0s 11ms/step - loss: 0.3060 - accuracy: 0.8705 - val_loss: 0.4126 - val_accuracy: 0.7551\n",
            "Epoch 44/300\n",
            "7/7 [==============================] - 0s 11ms/step - loss: 0.3038 - accuracy: 0.8705 - val_loss: 0.4133 - val_accuracy: 0.7551\n",
            "Epoch 45/300\n",
            "7/7 [==============================] - 0s 8ms/step - loss: 0.3011 - accuracy: 0.8705 - val_loss: 0.4138 - val_accuracy: 0.7551\n",
            "Epoch 46/300\n",
            "7/7 [==============================] - 0s 10ms/step - loss: 0.2987 - accuracy: 0.8860 - val_loss: 0.4153 - val_accuracy: 0.7551\n",
            "Epoch 47/300\n",
            "7/7 [==============================] - 0s 11ms/step - loss: 0.2964 - accuracy: 0.8912 - val_loss: 0.4175 - val_accuracy: 0.7551\n",
            "Epoch 48/300\n",
            "7/7 [==============================] - 0s 11ms/step - loss: 0.2963 - accuracy: 0.8860 - val_loss: 0.4183 - val_accuracy: 0.7551\n",
            "Epoch 49/300\n",
            "7/7 [==============================] - 0s 10ms/step - loss: 0.2946 - accuracy: 0.8912 - val_loss: 0.4177 - val_accuracy: 0.7551\n",
            "Epoch 50/300\n",
            "7/7 [==============================] - 0s 10ms/step - loss: 0.2928 - accuracy: 0.8912 - val_loss: 0.4165 - val_accuracy: 0.7551\n",
            "Epoch 51/300\n",
            "7/7 [==============================] - 0s 8ms/step - loss: 0.2911 - accuracy: 0.8912 - val_loss: 0.4156 - val_accuracy: 0.7551\n",
            "Epoch 52/300\n",
            "7/7 [==============================] - 0s 8ms/step - loss: 0.2893 - accuracy: 0.8964 - val_loss: 0.4150 - val_accuracy: 0.7551\n",
            "Epoch 53/300\n",
            "7/7 [==============================] - 0s 8ms/step - loss: 0.2879 - accuracy: 0.8912 - val_loss: 0.4142 - val_accuracy: 0.7551\n",
            "Epoch 54/300\n",
            "7/7 [==============================] - 0s 9ms/step - loss: 0.2863 - accuracy: 0.8912 - val_loss: 0.4137 - val_accuracy: 0.7551\n",
            "Epoch 55/300\n",
            "7/7 [==============================] - 0s 8ms/step - loss: 0.2848 - accuracy: 0.8912 - val_loss: 0.4134 - val_accuracy: 0.7551\n",
            "Epoch 56/300\n",
            "7/7 [==============================] - 0s 11ms/step - loss: 0.2835 - accuracy: 0.8912 - val_loss: 0.4132 - val_accuracy: 0.7551\n",
            "Epoch 57/300\n",
            "7/7 [==============================] - 0s 10ms/step - loss: 0.2822 - accuracy: 0.8912 - val_loss: 0.4126 - val_accuracy: 0.7551\n",
            "Epoch 58/300\n",
            "7/7 [==============================] - 0s 11ms/step - loss: 0.2808 - accuracy: 0.8912 - val_loss: 0.4124 - val_accuracy: 0.7551\n",
            "Epoch 59/300\n",
            "7/7 [==============================] - 0s 10ms/step - loss: 0.2795 - accuracy: 0.8912 - val_loss: 0.4124 - val_accuracy: 0.7551\n",
            "Epoch 60/300\n",
            "7/7 [==============================] - 0s 11ms/step - loss: 0.2783 - accuracy: 0.8912 - val_loss: 0.4126 - val_accuracy: 0.7551\n",
            "Epoch 61/300\n",
            "7/7 [==============================] - 0s 8ms/step - loss: 0.2773 - accuracy: 0.8912 - val_loss: 0.4129 - val_accuracy: 0.7551\n",
            "Epoch 62/300\n",
            "7/7 [==============================] - 0s 9ms/step - loss: 0.2758 - accuracy: 0.8912 - val_loss: 0.4136 - val_accuracy: 0.7551\n",
            "Epoch 63/300\n",
            "7/7 [==============================] - 0s 10ms/step - loss: 0.2747 - accuracy: 0.8964 - val_loss: 0.4141 - val_accuracy: 0.7551\n",
            "Epoch 64/300\n",
            "7/7 [==============================] - 0s 11ms/step - loss: 0.2736 - accuracy: 0.8964 - val_loss: 0.4143 - val_accuracy: 0.7551\n",
            "Epoch 65/300\n",
            "7/7 [==============================] - 0s 8ms/step - loss: 0.2726 - accuracy: 0.8964 - val_loss: 0.4147 - val_accuracy: 0.7551\n",
            "Epoch 66/300\n",
            "7/7 [==============================] - 0s 7ms/step - loss: 0.2717 - accuracy: 0.8860 - val_loss: 0.4144 - val_accuracy: 0.7551\n",
            "Epoch 67/300\n",
            "7/7 [==============================] - 0s 8ms/step - loss: 0.2713 - accuracy: 0.8860 - val_loss: 0.4123 - val_accuracy: 0.7755\n",
            "Epoch 68/300\n",
            "7/7 [==============================] - 0s 8ms/step - loss: 0.2719 - accuracy: 0.8808 - val_loss: 0.4107 - val_accuracy: 0.7755\n",
            "Epoch 69/300\n",
            "7/7 [==============================] - 0s 8ms/step - loss: 0.2731 - accuracy: 0.8705 - val_loss: 0.4100 - val_accuracy: 0.7755\n",
            "Epoch 70/300\n",
            "7/7 [==============================] - 0s 10ms/step - loss: 0.2735 - accuracy: 0.8705 - val_loss: 0.4102 - val_accuracy: 0.7755\n",
            "Epoch 71/300\n",
            "7/7 [==============================] - 0s 8ms/step - loss: 0.2726 - accuracy: 0.8705 - val_loss: 0.4104 - val_accuracy: 0.7755\n",
            "Epoch 72/300\n",
            "7/7 [==============================] - 0s 10ms/step - loss: 0.2708 - accuracy: 0.8705 - val_loss: 0.4116 - val_accuracy: 0.7755\n",
            "Epoch 73/300\n",
            "7/7 [==============================] - 0s 8ms/step - loss: 0.2681 - accuracy: 0.8808 - val_loss: 0.4129 - val_accuracy: 0.7755\n",
            "Epoch 74/300\n",
            "7/7 [==============================] - 0s 8ms/step - loss: 0.2656 - accuracy: 0.8808 - val_loss: 0.4166 - val_accuracy: 0.7755\n",
            "Epoch 75/300\n",
            "7/7 [==============================] - 0s 8ms/step - loss: 0.2645 - accuracy: 0.8860 - val_loss: 0.4190 - val_accuracy: 0.7755\n",
            "Epoch 76/300\n",
            "7/7 [==============================] - 0s 10ms/step - loss: 0.2632 - accuracy: 0.8964 - val_loss: 0.4199 - val_accuracy: 0.7755\n",
            "Epoch 77/300\n",
            "7/7 [==============================] - 0s 8ms/step - loss: 0.2625 - accuracy: 0.8912 - val_loss: 0.4207 - val_accuracy: 0.7755\n",
            "Epoch 78/300\n",
            "7/7 [==============================] - 0s 10ms/step - loss: 0.2618 - accuracy: 0.8912 - val_loss: 0.4214 - val_accuracy: 0.7755\n",
            "Epoch 79/300\n",
            "7/7 [==============================] - 0s 7ms/step - loss: 0.2615 - accuracy: 0.8964 - val_loss: 0.4198 - val_accuracy: 0.7755\n",
            "Epoch 80/300\n",
            "7/7 [==============================] - 0s 10ms/step - loss: 0.2603 - accuracy: 0.8964 - val_loss: 0.4193 - val_accuracy: 0.7755\n",
            "Epoch 81/300\n",
            "7/7 [==============================] - 0s 7ms/step - loss: 0.2597 - accuracy: 0.8860 - val_loss: 0.4193 - val_accuracy: 0.7755\n",
            "Epoch 82/300\n",
            "7/7 [==============================] - 0s 10ms/step - loss: 0.2593 - accuracy: 0.8860 - val_loss: 0.4192 - val_accuracy: 0.7755\n",
            "Epoch 83/300\n",
            "7/7 [==============================] - 0s 10ms/step - loss: 0.2579 - accuracy: 0.8964 - val_loss: 0.4195 - val_accuracy: 0.7755\n",
            "Epoch 84/300\n",
            "7/7 [==============================] - 0s 8ms/step - loss: 0.2570 - accuracy: 0.8912 - val_loss: 0.4202 - val_accuracy: 0.7755\n",
            "Epoch 85/300\n",
            "7/7 [==============================] - 0s 8ms/step - loss: 0.2559 - accuracy: 0.8964 - val_loss: 0.4205 - val_accuracy: 0.7755\n",
            "Epoch 86/300\n",
            "7/7 [==============================] - 0s 9ms/step - loss: 0.2552 - accuracy: 0.8964 - val_loss: 0.4209 - val_accuracy: 0.7755\n",
            "Epoch 87/300\n",
            "7/7 [==============================] - 0s 11ms/step - loss: 0.2545 - accuracy: 0.8964 - val_loss: 0.4211 - val_accuracy: 0.7755\n",
            "Epoch 88/300\n",
            "7/7 [==============================] - 0s 10ms/step - loss: 0.2538 - accuracy: 0.8964 - val_loss: 0.4213 - val_accuracy: 0.7755\n",
            "Epoch 89/300\n",
            "7/7 [==============================] - 0s 7ms/step - loss: 0.2530 - accuracy: 0.8964 - val_loss: 0.4220 - val_accuracy: 0.7755\n",
            "Epoch 90/300\n",
            "7/7 [==============================] - 0s 8ms/step - loss: 0.2523 - accuracy: 0.9016 - val_loss: 0.4224 - val_accuracy: 0.7755\n",
            "Epoch 91/300\n",
            "7/7 [==============================] - 0s 11ms/step - loss: 0.2518 - accuracy: 0.9016 - val_loss: 0.4227 - val_accuracy: 0.7755\n",
            "Epoch 92/300\n",
            "7/7 [==============================] - 0s 7ms/step - loss: 0.2510 - accuracy: 0.9016 - val_loss: 0.4228 - val_accuracy: 0.7755\n",
            "Epoch 93/300\n",
            "7/7 [==============================] - 0s 8ms/step - loss: 0.2503 - accuracy: 0.9016 - val_loss: 0.4227 - val_accuracy: 0.7755\n",
            "Epoch 94/300\n",
            "7/7 [==============================] - 0s 10ms/step - loss: 0.2495 - accuracy: 0.9067 - val_loss: 0.4207 - val_accuracy: 0.7755\n",
            "Epoch 95/300\n",
            "7/7 [==============================] - 0s 12ms/step - loss: 0.2491 - accuracy: 0.9067 - val_loss: 0.4206 - val_accuracy: 0.7755\n",
            "Epoch 96/300\n",
            "7/7 [==============================] - 0s 8ms/step - loss: 0.2485 - accuracy: 0.9067 - val_loss: 0.4208 - val_accuracy: 0.7755\n",
            "Epoch 97/300\n",
            "7/7 [==============================] - 0s 10ms/step - loss: 0.2478 - accuracy: 0.9067 - val_loss: 0.4213 - val_accuracy: 0.7755\n",
            "Epoch 98/300\n",
            "7/7 [==============================] - 0s 10ms/step - loss: 0.2473 - accuracy: 0.9016 - val_loss: 0.4221 - val_accuracy: 0.7755\n",
            "Epoch 99/300\n",
            "7/7 [==============================] - 0s 7ms/step - loss: 0.2464 - accuracy: 0.9067 - val_loss: 0.4232 - val_accuracy: 0.7551\n",
            "Epoch 100/300\n",
            "7/7 [==============================] - 0s 7ms/step - loss: 0.2457 - accuracy: 0.9067 - val_loss: 0.4247 - val_accuracy: 0.7551\n",
            "Epoch 101/300\n",
            "7/7 [==============================] - 0s 8ms/step - loss: 0.2449 - accuracy: 0.9016 - val_loss: 0.4258 - val_accuracy: 0.7551\n",
            "Epoch 102/300\n",
            "7/7 [==============================] - 0s 8ms/step - loss: 0.2441 - accuracy: 0.9067 - val_loss: 0.4261 - val_accuracy: 0.7551\n",
            "Epoch 103/300\n",
            "7/7 [==============================] - 0s 7ms/step - loss: 0.2438 - accuracy: 0.9067 - val_loss: 0.4243 - val_accuracy: 0.7755\n",
            "Epoch 104/300\n",
            "7/7 [==============================] - 0s 10ms/step - loss: 0.2428 - accuracy: 0.9016 - val_loss: 0.4238 - val_accuracy: 0.7755\n",
            "Epoch 105/300\n",
            "7/7 [==============================] - 0s 8ms/step - loss: 0.2426 - accuracy: 0.9016 - val_loss: 0.4234 - val_accuracy: 0.7755\n",
            "Epoch 106/300\n",
            "7/7 [==============================] - 0s 10ms/step - loss: 0.2420 - accuracy: 0.9016 - val_loss: 0.4231 - val_accuracy: 0.7755\n",
            "Epoch 107/300\n",
            "7/7 [==============================] - 0s 8ms/step - loss: 0.2413 - accuracy: 0.9119 - val_loss: 0.4221 - val_accuracy: 0.7755\n",
            "Epoch 108/300\n",
            "7/7 [==============================] - 0s 8ms/step - loss: 0.2410 - accuracy: 0.9119 - val_loss: 0.4222 - val_accuracy: 0.7959\n",
            "Epoch 109/300\n",
            "7/7 [==============================] - 0s 8ms/step - loss: 0.2403 - accuracy: 0.9119 - val_loss: 0.4227 - val_accuracy: 0.7755\n",
            "Epoch 110/300\n",
            "7/7 [==============================] - 0s 7ms/step - loss: 0.2393 - accuracy: 0.9119 - val_loss: 0.4238 - val_accuracy: 0.7755\n",
            "Epoch 111/300\n",
            "7/7 [==============================] - 0s 8ms/step - loss: 0.2380 - accuracy: 0.9067 - val_loss: 0.4269 - val_accuracy: 0.7551\n",
            "Epoch 112/300\n",
            "7/7 [==============================] - 0s 10ms/step - loss: 0.2373 - accuracy: 0.9067 - val_loss: 0.4287 - val_accuracy: 0.7551\n",
            "Epoch 113/300\n",
            "7/7 [==============================] - 0s 10ms/step - loss: 0.2365 - accuracy: 0.9067 - val_loss: 0.4304 - val_accuracy: 0.7551\n",
            "Epoch 114/300\n",
            "7/7 [==============================] - 0s 10ms/step - loss: 0.2362 - accuracy: 0.9067 - val_loss: 0.4319 - val_accuracy: 0.7551\n",
            "Epoch 115/300\n",
            "7/7 [==============================] - 0s 10ms/step - loss: 0.2354 - accuracy: 0.9067 - val_loss: 0.4322 - val_accuracy: 0.7551\n",
            "Epoch 116/300\n",
            "7/7 [==============================] - 0s 8ms/step - loss: 0.2356 - accuracy: 0.9016 - val_loss: 0.4303 - val_accuracy: 0.7755\n",
            "Epoch 117/300\n",
            "7/7 [==============================] - 0s 11ms/step - loss: 0.2347 - accuracy: 0.9016 - val_loss: 0.4296 - val_accuracy: 0.7755\n",
            "Epoch 118/300\n",
            "7/7 [==============================] - 0s 9ms/step - loss: 0.2342 - accuracy: 0.9067 - val_loss: 0.4290 - val_accuracy: 0.7755\n",
            "Epoch 119/300\n",
            "7/7 [==============================] - 0s 8ms/step - loss: 0.2334 - accuracy: 0.9067 - val_loss: 0.4279 - val_accuracy: 0.7755\n",
            "Epoch 120/300\n",
            "7/7 [==============================] - 0s 10ms/step - loss: 0.2340 - accuracy: 0.9067 - val_loss: 0.4279 - val_accuracy: 0.7755\n",
            "Epoch 121/300\n",
            "7/7 [==============================] - 0s 8ms/step - loss: 0.2331 - accuracy: 0.9067 - val_loss: 0.4283 - val_accuracy: 0.7755\n",
            "Epoch 122/300\n",
            "7/7 [==============================] - 0s 8ms/step - loss: 0.2320 - accuracy: 0.9067 - val_loss: 0.4286 - val_accuracy: 0.7755\n",
            "Epoch 123/300\n",
            "7/7 [==============================] - 0s 8ms/step - loss: 0.2312 - accuracy: 0.9067 - val_loss: 0.4294 - val_accuracy: 0.7755\n",
            "Epoch 124/300\n",
            "7/7 [==============================] - 0s 10ms/step - loss: 0.2305 - accuracy: 0.9067 - val_loss: 0.4303 - val_accuracy: 0.7755\n",
            "Epoch 125/300\n",
            "7/7 [==============================] - 0s 8ms/step - loss: 0.2300 - accuracy: 0.9067 - val_loss: 0.4306 - val_accuracy: 0.7755\n",
            "Epoch 126/300\n",
            "7/7 [==============================] - 0s 10ms/step - loss: 0.2288 - accuracy: 0.9067 - val_loss: 0.4313 - val_accuracy: 0.7755\n",
            "Epoch 127/300\n",
            "7/7 [==============================] - 0s 8ms/step - loss: 0.2280 - accuracy: 0.9067 - val_loss: 0.4314 - val_accuracy: 0.7755\n",
            "Epoch 128/300\n",
            "7/7 [==============================] - 0s 10ms/step - loss: 0.2273 - accuracy: 0.9119 - val_loss: 0.4317 - val_accuracy: 0.7755\n",
            "Epoch 129/300\n",
            "7/7 [==============================] - 0s 12ms/step - loss: 0.2267 - accuracy: 0.9119 - val_loss: 0.4321 - val_accuracy: 0.7755\n",
            "Epoch 130/300\n",
            "7/7 [==============================] - 0s 8ms/step - loss: 0.2257 - accuracy: 0.9067 - val_loss: 0.4309 - val_accuracy: 0.7755\n",
            "Epoch 131/300\n",
            "7/7 [==============================] - 0s 8ms/step - loss: 0.2258 - accuracy: 0.9067 - val_loss: 0.4304 - val_accuracy: 0.7551\n",
            "Epoch 132/300\n",
            "7/7 [==============================] - 0s 9ms/step - loss: 0.2257 - accuracy: 0.9067 - val_loss: 0.4298 - val_accuracy: 0.7551\n",
            "Epoch 133/300\n",
            "7/7 [==============================] - 0s 9ms/step - loss: 0.2249 - accuracy: 0.9067 - val_loss: 0.4307 - val_accuracy: 0.7551\n",
            "Epoch 134/300\n",
            "7/7 [==============================] - 0s 8ms/step - loss: 0.2243 - accuracy: 0.9067 - val_loss: 0.4345 - val_accuracy: 0.7755\n",
            "Epoch 135/300\n",
            "7/7 [==============================] - 0s 8ms/step - loss: 0.2227 - accuracy: 0.9016 - val_loss: 0.4402 - val_accuracy: 0.7755\n",
            "Epoch 136/300\n",
            "7/7 [==============================] - 0s 8ms/step - loss: 0.2234 - accuracy: 0.9016 - val_loss: 0.4451 - val_accuracy: 0.7755\n",
            "Epoch 137/300\n",
            "7/7 [==============================] - 0s 8ms/step - loss: 0.2257 - accuracy: 0.9016 - val_loss: 0.4448 - val_accuracy: 0.7755\n",
            "Epoch 138/300\n",
            "7/7 [==============================] - 0s 8ms/step - loss: 0.2237 - accuracy: 0.9067 - val_loss: 0.4383 - val_accuracy: 0.7755\n",
            "Epoch 139/300\n",
            "7/7 [==============================] - 0s 8ms/step - loss: 0.2219 - accuracy: 0.9119 - val_loss: 0.4354 - val_accuracy: 0.7755\n",
            "Epoch 140/300\n",
            "7/7 [==============================] - 0s 9ms/step - loss: 0.2209 - accuracy: 0.9119 - val_loss: 0.4340 - val_accuracy: 0.7755\n",
            "Epoch 141/300\n",
            "7/7 [==============================] - 0s 10ms/step - loss: 0.2205 - accuracy: 0.9119 - val_loss: 0.4334 - val_accuracy: 0.7755\n",
            "Epoch 142/300\n",
            "7/7 [==============================] - 0s 8ms/step - loss: 0.2200 - accuracy: 0.9119 - val_loss: 0.4337 - val_accuracy: 0.7755\n",
            "Epoch 143/300\n",
            "7/7 [==============================] - 0s 9ms/step - loss: 0.2195 - accuracy: 0.9119 - val_loss: 0.4350 - val_accuracy: 0.7755\n",
            "Epoch 144/300\n",
            "7/7 [==============================] - 0s 11ms/step - loss: 0.2189 - accuracy: 0.9119 - val_loss: 0.4379 - val_accuracy: 0.7755\n",
            "Epoch 145/300\n",
            "7/7 [==============================] - 0s 11ms/step - loss: 0.2183 - accuracy: 0.9119 - val_loss: 0.4395 - val_accuracy: 0.7755\n",
            "Epoch 146/300\n",
            "7/7 [==============================] - 0s 8ms/step - loss: 0.2180 - accuracy: 0.9119 - val_loss: 0.4409 - val_accuracy: 0.7755\n",
            "Epoch 147/300\n",
            "7/7 [==============================] - 0s 8ms/step - loss: 0.2175 - accuracy: 0.9119 - val_loss: 0.4421 - val_accuracy: 0.7755\n",
            "Epoch 148/300\n",
            "7/7 [==============================] - 0s 8ms/step - loss: 0.2169 - accuracy: 0.9119 - val_loss: 0.4428 - val_accuracy: 0.7755\n",
            "Epoch 149/300\n",
            "7/7 [==============================] - 0s 12ms/step - loss: 0.2165 - accuracy: 0.9119 - val_loss: 0.4431 - val_accuracy: 0.7755\n",
            "Epoch 150/300\n",
            "7/7 [==============================] - 0s 10ms/step - loss: 0.2160 - accuracy: 0.9119 - val_loss: 0.4433 - val_accuracy: 0.7755\n",
            "Epoch 151/300\n",
            "7/7 [==============================] - 0s 10ms/step - loss: 0.2156 - accuracy: 0.9119 - val_loss: 0.4436 - val_accuracy: 0.7755\n",
            "Epoch 152/300\n",
            "7/7 [==============================] - 0s 8ms/step - loss: 0.2151 - accuracy: 0.9119 - val_loss: 0.4439 - val_accuracy: 0.7755\n",
            "Epoch 153/300\n",
            "7/7 [==============================] - 0s 10ms/step - loss: 0.2146 - accuracy: 0.9119 - val_loss: 0.4445 - val_accuracy: 0.7755\n",
            "Epoch 154/300\n",
            "7/7 [==============================] - 0s 10ms/step - loss: 0.2141 - accuracy: 0.9119 - val_loss: 0.4451 - val_accuracy: 0.7755\n",
            "Epoch 155/300\n",
            "7/7 [==============================] - 0s 11ms/step - loss: 0.2137 - accuracy: 0.9119 - val_loss: 0.4454 - val_accuracy: 0.7755\n",
            "Epoch 156/300\n",
            "7/7 [==============================] - 0s 8ms/step - loss: 0.2136 - accuracy: 0.9119 - val_loss: 0.4433 - val_accuracy: 0.7755\n",
            "Epoch 157/300\n",
            "7/7 [==============================] - 0s 8ms/step - loss: 0.2123 - accuracy: 0.9119 - val_loss: 0.4416 - val_accuracy: 0.7551\n",
            "Epoch 158/300\n",
            "7/7 [==============================] - 0s 11ms/step - loss: 0.2129 - accuracy: 0.9119 - val_loss: 0.4412 - val_accuracy: 0.7755\n",
            "Epoch 159/300\n",
            "7/7 [==============================] - 0s 8ms/step - loss: 0.2128 - accuracy: 0.9119 - val_loss: 0.4412 - val_accuracy: 0.7755\n",
            "Epoch 160/300\n",
            "7/7 [==============================] - 0s 8ms/step - loss: 0.2123 - accuracy: 0.9119 - val_loss: 0.4413 - val_accuracy: 0.7755\n",
            "Epoch 161/300\n",
            "7/7 [==============================] - 0s 10ms/step - loss: 0.2124 - accuracy: 0.9171 - val_loss: 0.4398 - val_accuracy: 0.7755\n",
            "Epoch 162/300\n",
            "7/7 [==============================] - 0s 11ms/step - loss: 0.2126 - accuracy: 0.9171 - val_loss: 0.4401 - val_accuracy: 0.7755\n",
            "Epoch 163/300\n",
            "7/7 [==============================] - 0s 11ms/step - loss: 0.2119 - accuracy: 0.9223 - val_loss: 0.4410 - val_accuracy: 0.7755\n",
            "Epoch 164/300\n",
            "7/7 [==============================] - 0s 9ms/step - loss: 0.2116 - accuracy: 0.9223 - val_loss: 0.4424 - val_accuracy: 0.7755\n",
            "Epoch 165/300\n",
            "7/7 [==============================] - 0s 10ms/step - loss: 0.2112 - accuracy: 0.9275 - val_loss: 0.4437 - val_accuracy: 0.7755\n",
            "Epoch 166/300\n",
            "7/7 [==============================] - 0s 11ms/step - loss: 0.2105 - accuracy: 0.9275 - val_loss: 0.4447 - val_accuracy: 0.7755\n",
            "Epoch 167/300\n",
            "7/7 [==============================] - 0s 12ms/step - loss: 0.2099 - accuracy: 0.9275 - val_loss: 0.4456 - val_accuracy: 0.7755\n",
            "Epoch 168/300\n",
            "7/7 [==============================] - 0s 11ms/step - loss: 0.2092 - accuracy: 0.9275 - val_loss: 0.4452 - val_accuracy: 0.7755\n",
            "Epoch 169/300\n",
            "7/7 [==============================] - 0s 14ms/step - loss: 0.2090 - accuracy: 0.9326 - val_loss: 0.4422 - val_accuracy: 0.7755\n",
            "Epoch 170/300\n",
            "7/7 [==============================] - 0s 14ms/step - loss: 0.2109 - accuracy: 0.9275 - val_loss: 0.4418 - val_accuracy: 0.7959\n",
            "Epoch 171/300\n",
            "7/7 [==============================] - 0s 14ms/step - loss: 0.2105 - accuracy: 0.9223 - val_loss: 0.4426 - val_accuracy: 0.7959\n",
            "Epoch 172/300\n",
            "7/7 [==============================] - 0s 14ms/step - loss: 0.2086 - accuracy: 0.9326 - val_loss: 0.4426 - val_accuracy: 0.7755\n",
            "Epoch 173/300\n",
            "7/7 [==============================] - 0s 13ms/step - loss: 0.2081 - accuracy: 0.9275 - val_loss: 0.4437 - val_accuracy: 0.7755\n",
            "Epoch 174/300\n",
            "7/7 [==============================] - 0s 13ms/step - loss: 0.2069 - accuracy: 0.9067 - val_loss: 0.4456 - val_accuracy: 0.7755\n",
            "Epoch 175/300\n",
            "7/7 [==============================] - 0s 14ms/step - loss: 0.2053 - accuracy: 0.9119 - val_loss: 0.4466 - val_accuracy: 0.7755\n",
            "Epoch 176/300\n",
            "7/7 [==============================] - 0s 13ms/step - loss: 0.2050 - accuracy: 0.9119 - val_loss: 0.4456 - val_accuracy: 0.7959\n",
            "Epoch 177/300\n",
            "7/7 [==============================] - 0s 12ms/step - loss: 0.2042 - accuracy: 0.9119 - val_loss: 0.4462 - val_accuracy: 0.7959\n",
            "Epoch 178/300\n",
            "7/7 [==============================] - 0s 14ms/step - loss: 0.2039 - accuracy: 0.9171 - val_loss: 0.4472 - val_accuracy: 0.7755\n",
            "Epoch 179/300\n",
            "7/7 [==============================] - 0s 11ms/step - loss: 0.2041 - accuracy: 0.9171 - val_loss: 0.4487 - val_accuracy: 0.7959\n",
            "Epoch 180/300\n",
            "7/7 [==============================] - 0s 13ms/step - loss: 0.2037 - accuracy: 0.9171 - val_loss: 0.4483 - val_accuracy: 0.8163\n",
            "Epoch 181/300\n",
            "7/7 [==============================] - 0s 11ms/step - loss: 0.2033 - accuracy: 0.9171 - val_loss: 0.4483 - val_accuracy: 0.8163\n",
            "Epoch 182/300\n",
            "7/7 [==============================] - 0s 13ms/step - loss: 0.2026 - accuracy: 0.9171 - val_loss: 0.4472 - val_accuracy: 0.8163\n",
            "Epoch 183/300\n",
            "7/7 [==============================] - 0s 14ms/step - loss: 0.2038 - accuracy: 0.9171 - val_loss: 0.4470 - val_accuracy: 0.8163\n",
            "Epoch 184/300\n",
            "7/7 [==============================] - 0s 11ms/step - loss: 0.2035 - accuracy: 0.9171 - val_loss: 0.4486 - val_accuracy: 0.8163\n",
            "Epoch 185/300\n",
            "7/7 [==============================] - 0s 13ms/step - loss: 0.2029 - accuracy: 0.9171 - val_loss: 0.4504 - val_accuracy: 0.8163\n",
            "Epoch 186/300\n",
            "7/7 [==============================] - 0s 12ms/step - loss: 0.2021 - accuracy: 0.9171 - val_loss: 0.4515 - val_accuracy: 0.8163\n",
            "Epoch 187/300\n",
            "7/7 [==============================] - 0s 13ms/step - loss: 0.2010 - accuracy: 0.9223 - val_loss: 0.4536 - val_accuracy: 0.8163\n",
            "Epoch 188/300\n",
            "7/7 [==============================] - 0s 13ms/step - loss: 0.2006 - accuracy: 0.9223 - val_loss: 0.4552 - val_accuracy: 0.7959\n",
            "Epoch 189/300\n",
            "7/7 [==============================] - 0s 16ms/step - loss: 0.2004 - accuracy: 0.9223 - val_loss: 0.4555 - val_accuracy: 0.7959\n",
            "Epoch 190/300\n",
            "7/7 [==============================] - 0s 13ms/step - loss: 0.1994 - accuracy: 0.9223 - val_loss: 0.4534 - val_accuracy: 0.8163\n",
            "Epoch 191/300\n",
            "7/7 [==============================] - 0s 12ms/step - loss: 0.1992 - accuracy: 0.9223 - val_loss: 0.4528 - val_accuracy: 0.8163\n",
            "Epoch 192/300\n",
            "7/7 [==============================] - 0s 14ms/step - loss: 0.1987 - accuracy: 0.9223 - val_loss: 0.4520 - val_accuracy: 0.8163\n",
            "Epoch 193/300\n",
            "7/7 [==============================] - 0s 13ms/step - loss: 0.1987 - accuracy: 0.9223 - val_loss: 0.4486 - val_accuracy: 0.8163\n",
            "Epoch 194/300\n",
            "7/7 [==============================] - 0s 14ms/step - loss: 0.1988 - accuracy: 0.9223 - val_loss: 0.4477 - val_accuracy: 0.7959\n",
            "Epoch 195/300\n",
            "7/7 [==============================] - 0s 13ms/step - loss: 0.1988 - accuracy: 0.9223 - val_loss: 0.4483 - val_accuracy: 0.7959\n",
            "Epoch 196/300\n",
            "7/7 [==============================] - 0s 8ms/step - loss: 0.1984 - accuracy: 0.9223 - val_loss: 0.4496 - val_accuracy: 0.8163\n",
            "Epoch 197/300\n",
            "7/7 [==============================] - 0s 8ms/step - loss: 0.1980 - accuracy: 0.9223 - val_loss: 0.4502 - val_accuracy: 0.8163\n",
            "Epoch 198/300\n",
            "7/7 [==============================] - 0s 10ms/step - loss: 0.1974 - accuracy: 0.9223 - val_loss: 0.4508 - val_accuracy: 0.8163\n",
            "Epoch 199/300\n",
            "7/7 [==============================] - 0s 11ms/step - loss: 0.1968 - accuracy: 0.9223 - val_loss: 0.4519 - val_accuracy: 0.8163\n",
            "Epoch 200/300\n",
            "7/7 [==============================] - 0s 8ms/step - loss: 0.1961 - accuracy: 0.9223 - val_loss: 0.4524 - val_accuracy: 0.8163\n",
            "Epoch 201/300\n",
            "7/7 [==============================] - 0s 10ms/step - loss: 0.1957 - accuracy: 0.9223 - val_loss: 0.4528 - val_accuracy: 0.8163\n",
            "Epoch 202/300\n",
            "7/7 [==============================] - 0s 8ms/step - loss: 0.1955 - accuracy: 0.9223 - val_loss: 0.4545 - val_accuracy: 0.7959\n",
            "Epoch 203/300\n",
            "7/7 [==============================] - 0s 8ms/step - loss: 0.1954 - accuracy: 0.9171 - val_loss: 0.4553 - val_accuracy: 0.7959\n",
            "Epoch 204/300\n",
            "7/7 [==============================] - 0s 8ms/step - loss: 0.1954 - accuracy: 0.9171 - val_loss: 0.4557 - val_accuracy: 0.7959\n",
            "Epoch 205/300\n",
            "7/7 [==============================] - 0s 8ms/step - loss: 0.1947 - accuracy: 0.9171 - val_loss: 0.4574 - val_accuracy: 0.7959\n",
            "Epoch 206/300\n",
            "7/7 [==============================] - 0s 8ms/step - loss: 0.1958 - accuracy: 0.9119 - val_loss: 0.4629 - val_accuracy: 0.7959\n",
            "Epoch 207/300\n",
            "7/7 [==============================] - 0s 8ms/step - loss: 0.1942 - accuracy: 0.9119 - val_loss: 0.4671 - val_accuracy: 0.7755\n",
            "Epoch 208/300\n",
            "7/7 [==============================] - 0s 9ms/step - loss: 0.1942 - accuracy: 0.9067 - val_loss: 0.4689 - val_accuracy: 0.7755\n",
            "Epoch 209/300\n",
            "7/7 [==============================] - 0s 11ms/step - loss: 0.1937 - accuracy: 0.9171 - val_loss: 0.4692 - val_accuracy: 0.7959\n",
            "Epoch 210/300\n",
            "7/7 [==============================] - 0s 11ms/step - loss: 0.1930 - accuracy: 0.9171 - val_loss: 0.4674 - val_accuracy: 0.7959\n",
            "Epoch 211/300\n",
            "7/7 [==============================] - 0s 8ms/step - loss: 0.1930 - accuracy: 0.9223 - val_loss: 0.4670 - val_accuracy: 0.7755\n",
            "Epoch 212/300\n",
            "7/7 [==============================] - 0s 11ms/step - loss: 0.1928 - accuracy: 0.9223 - val_loss: 0.4669 - val_accuracy: 0.8163\n",
            "Epoch 213/300\n",
            "7/7 [==============================] - 0s 12ms/step - loss: 0.1926 - accuracy: 0.9223 - val_loss: 0.4677 - val_accuracy: 0.8163\n",
            "Epoch 214/300\n",
            "7/7 [==============================] - 0s 8ms/step - loss: 0.1923 - accuracy: 0.9223 - val_loss: 0.4680 - val_accuracy: 0.8163\n",
            "Epoch 215/300\n",
            "7/7 [==============================] - 0s 8ms/step - loss: 0.1917 - accuracy: 0.9223 - val_loss: 0.4682 - val_accuracy: 0.8163\n",
            "Epoch 216/300\n",
            "7/7 [==============================] - 0s 11ms/step - loss: 0.1911 - accuracy: 0.9223 - val_loss: 0.4700 - val_accuracy: 0.8163\n",
            "Epoch 217/300\n",
            "7/7 [==============================] - 0s 9ms/step - loss: 0.1911 - accuracy: 0.9171 - val_loss: 0.4725 - val_accuracy: 0.8163\n",
            "Epoch 218/300\n",
            "7/7 [==============================] - 0s 12ms/step - loss: 0.1903 - accuracy: 0.9171 - val_loss: 0.4729 - val_accuracy: 0.8163\n",
            "Epoch 219/300\n",
            "7/7 [==============================] - 0s 8ms/step - loss: 0.1897 - accuracy: 0.9223 - val_loss: 0.4726 - val_accuracy: 0.7959\n",
            "Epoch 220/300\n",
            "7/7 [==============================] - 0s 12ms/step - loss: 0.1891 - accuracy: 0.9223 - val_loss: 0.4725 - val_accuracy: 0.7959\n",
            "Epoch 221/300\n",
            "7/7 [==============================] - 0s 11ms/step - loss: 0.1887 - accuracy: 0.9223 - val_loss: 0.4726 - val_accuracy: 0.7959\n",
            "Epoch 222/300\n",
            "7/7 [==============================] - 0s 8ms/step - loss: 0.1882 - accuracy: 0.9223 - val_loss: 0.4730 - val_accuracy: 0.7959\n",
            "Epoch 223/300\n",
            "7/7 [==============================] - 0s 9ms/step - loss: 0.1879 - accuracy: 0.9223 - val_loss: 0.4731 - val_accuracy: 0.7959\n",
            "Epoch 224/300\n",
            "7/7 [==============================] - 0s 11ms/step - loss: 0.1875 - accuracy: 0.9223 - val_loss: 0.4734 - val_accuracy: 0.7959\n",
            "Epoch 225/300\n",
            "7/7 [==============================] - 0s 11ms/step - loss: 0.1872 - accuracy: 0.9223 - val_loss: 0.4726 - val_accuracy: 0.7959\n",
            "Epoch 226/300\n",
            "7/7 [==============================] - 0s 10ms/step - loss: 0.1868 - accuracy: 0.9223 - val_loss: 0.4702 - val_accuracy: 0.7959\n",
            "Epoch 227/300\n",
            "7/7 [==============================] - 0s 10ms/step - loss: 0.1867 - accuracy: 0.9171 - val_loss: 0.4637 - val_accuracy: 0.8163\n",
            "Epoch 228/300\n",
            "7/7 [==============================] - 0s 11ms/step - loss: 0.1890 - accuracy: 0.9171 - val_loss: 0.4608 - val_accuracy: 0.7959\n",
            "Epoch 229/300\n",
            "7/7 [==============================] - 0s 10ms/step - loss: 0.1893 - accuracy: 0.9223 - val_loss: 0.4604 - val_accuracy: 0.7959\n",
            "Epoch 230/300\n",
            "7/7 [==============================] - 0s 8ms/step - loss: 0.1895 - accuracy: 0.9223 - val_loss: 0.4613 - val_accuracy: 0.7959\n",
            "Epoch 231/300\n",
            "7/7 [==============================] - 0s 10ms/step - loss: 0.1888 - accuracy: 0.9223 - val_loss: 0.4622 - val_accuracy: 0.7959\n",
            "Epoch 232/300\n",
            "7/7 [==============================] - 0s 8ms/step - loss: 0.1880 - accuracy: 0.9223 - val_loss: 0.4637 - val_accuracy: 0.7959\n",
            "Epoch 233/300\n",
            "7/7 [==============================] - 0s 10ms/step - loss: 0.1878 - accuracy: 0.9223 - val_loss: 0.4690 - val_accuracy: 0.7959\n",
            "Epoch 234/300\n",
            "7/7 [==============================] - 0s 9ms/step - loss: 0.1884 - accuracy: 0.9223 - val_loss: 0.4713 - val_accuracy: 0.7755\n",
            "Epoch 235/300\n",
            "7/7 [==============================] - 0s 12ms/step - loss: 0.1883 - accuracy: 0.9223 - val_loss: 0.4727 - val_accuracy: 0.7959\n",
            "Epoch 236/300\n",
            "7/7 [==============================] - 0s 8ms/step - loss: 0.1875 - accuracy: 0.9223 - val_loss: 0.4724 - val_accuracy: 0.7755\n",
            "Epoch 237/300\n",
            "7/7 [==============================] - 0s 11ms/step - loss: 0.1869 - accuracy: 0.9275 - val_loss: 0.4729 - val_accuracy: 0.7959\n",
            "Epoch 238/300\n",
            "7/7 [==============================] - 0s 8ms/step - loss: 0.1863 - accuracy: 0.9275 - val_loss: 0.4736 - val_accuracy: 0.7959\n",
            "Epoch 239/300\n",
            "7/7 [==============================] - 0s 11ms/step - loss: 0.1857 - accuracy: 0.9275 - val_loss: 0.4741 - val_accuracy: 0.7959\n",
            "Epoch 240/300\n",
            "7/7 [==============================] - 0s 11ms/step - loss: 0.1847 - accuracy: 0.9275 - val_loss: 0.4747 - val_accuracy: 0.7959\n",
            "Epoch 241/300\n",
            "7/7 [==============================] - 0s 10ms/step - loss: 0.1839 - accuracy: 0.9275 - val_loss: 0.4754 - val_accuracy: 0.7959\n",
            "Epoch 242/300\n",
            "7/7 [==============================] - 0s 9ms/step - loss: 0.1834 - accuracy: 0.9326 - val_loss: 0.4755 - val_accuracy: 0.7959\n",
            "Epoch 243/300\n",
            "7/7 [==============================] - 0s 11ms/step - loss: 0.1830 - accuracy: 0.9326 - val_loss: 0.4764 - val_accuracy: 0.7959\n",
            "Epoch 244/300\n",
            "7/7 [==============================] - 0s 12ms/step - loss: 0.1824 - accuracy: 0.9326 - val_loss: 0.4770 - val_accuracy: 0.7959\n",
            "Epoch 245/300\n",
            "7/7 [==============================] - 0s 8ms/step - loss: 0.1815 - accuracy: 0.9326 - val_loss: 0.4774 - val_accuracy: 0.7959\n",
            "Epoch 246/300\n",
            "7/7 [==============================] - 0s 8ms/step - loss: 0.1811 - accuracy: 0.9275 - val_loss: 0.4778 - val_accuracy: 0.7959\n",
            "Epoch 247/300\n",
            "7/7 [==============================] - 0s 10ms/step - loss: 0.1806 - accuracy: 0.9275 - val_loss: 0.4778 - val_accuracy: 0.7959\n",
            "Epoch 248/300\n",
            "7/7 [==============================] - 0s 9ms/step - loss: 0.1810 - accuracy: 0.9326 - val_loss: 0.4774 - val_accuracy: 0.7755\n",
            "Epoch 249/300\n",
            "7/7 [==============================] - 0s 9ms/step - loss: 0.1809 - accuracy: 0.9275 - val_loss: 0.4790 - val_accuracy: 0.7755\n",
            "Epoch 250/300\n",
            "7/7 [==============================] - 0s 11ms/step - loss: 0.1807 - accuracy: 0.9275 - val_loss: 0.4805 - val_accuracy: 0.7959\n",
            "Epoch 251/300\n",
            "7/7 [==============================] - 0s 10ms/step - loss: 0.1797 - accuracy: 0.9275 - val_loss: 0.4790 - val_accuracy: 0.7959\n",
            "Epoch 252/300\n",
            "7/7 [==============================] - 0s 10ms/step - loss: 0.1794 - accuracy: 0.9223 - val_loss: 0.4788 - val_accuracy: 0.8163\n",
            "Epoch 253/300\n",
            "7/7 [==============================] - 0s 8ms/step - loss: 0.1787 - accuracy: 0.9223 - val_loss: 0.4801 - val_accuracy: 0.8163\n",
            "Epoch 254/300\n",
            "7/7 [==============================] - 0s 11ms/step - loss: 0.1780 - accuracy: 0.9223 - val_loss: 0.4812 - val_accuracy: 0.8367\n",
            "Epoch 255/300\n",
            "7/7 [==============================] - 0s 11ms/step - loss: 0.1775 - accuracy: 0.9223 - val_loss: 0.4821 - val_accuracy: 0.8367\n",
            "Epoch 256/300\n",
            "7/7 [==============================] - 0s 10ms/step - loss: 0.1771 - accuracy: 0.9223 - val_loss: 0.4829 - val_accuracy: 0.8367\n",
            "Epoch 257/300\n",
            "7/7 [==============================] - 0s 8ms/step - loss: 0.1767 - accuracy: 0.9223 - val_loss: 0.4836 - val_accuracy: 0.8367\n",
            "Epoch 258/300\n",
            "7/7 [==============================] - 0s 8ms/step - loss: 0.1764 - accuracy: 0.9223 - val_loss: 0.4852 - val_accuracy: 0.8367\n",
            "Epoch 259/300\n",
            "7/7 [==============================] - 0s 12ms/step - loss: 0.1763 - accuracy: 0.9223 - val_loss: 0.4859 - val_accuracy: 0.8367\n",
            "Epoch 260/300\n",
            "7/7 [==============================] - 0s 8ms/step - loss: 0.1764 - accuracy: 0.9171 - val_loss: 0.4839 - val_accuracy: 0.7959\n",
            "Epoch 261/300\n",
            "7/7 [==============================] - 0s 8ms/step - loss: 0.1760 - accuracy: 0.9223 - val_loss: 0.4838 - val_accuracy: 0.8367\n",
            "Epoch 262/300\n",
            "7/7 [==============================] - 0s 8ms/step - loss: 0.1751 - accuracy: 0.9223 - val_loss: 0.4847 - val_accuracy: 0.8367\n",
            "Epoch 263/300\n",
            "7/7 [==============================] - 0s 11ms/step - loss: 0.1746 - accuracy: 0.9223 - val_loss: 0.4862 - val_accuracy: 0.8367\n",
            "Epoch 264/300\n",
            "7/7 [==============================] - 0s 11ms/step - loss: 0.1743 - accuracy: 0.9223 - val_loss: 0.4862 - val_accuracy: 0.8163\n",
            "Epoch 265/300\n",
            "7/7 [==============================] - 0s 11ms/step - loss: 0.1735 - accuracy: 0.9223 - val_loss: 0.4835 - val_accuracy: 0.8163\n",
            "Epoch 266/300\n",
            "7/7 [==============================] - 0s 9ms/step - loss: 0.1753 - accuracy: 0.9223 - val_loss: 0.4830 - val_accuracy: 0.8163\n",
            "Epoch 267/300\n",
            "7/7 [==============================] - 0s 8ms/step - loss: 0.1750 - accuracy: 0.9223 - val_loss: 0.4819 - val_accuracy: 0.8163\n",
            "Epoch 268/300\n",
            "7/7 [==============================] - 0s 11ms/step - loss: 0.1750 - accuracy: 0.9223 - val_loss: 0.4803 - val_accuracy: 0.8163\n",
            "Epoch 269/300\n",
            "7/7 [==============================] - 0s 11ms/step - loss: 0.1750 - accuracy: 0.9223 - val_loss: 0.4790 - val_accuracy: 0.8163\n",
            "Epoch 270/300\n",
            "7/7 [==============================] - 0s 10ms/step - loss: 0.1743 - accuracy: 0.9223 - val_loss: 0.4787 - val_accuracy: 0.8163\n",
            "Epoch 271/300\n",
            "7/7 [==============================] - 0s 9ms/step - loss: 0.1740 - accuracy: 0.9223 - val_loss: 0.4812 - val_accuracy: 0.8163\n",
            "Epoch 272/300\n",
            "7/7 [==============================] - 0s 11ms/step - loss: 0.1744 - accuracy: 0.9223 - val_loss: 0.4821 - val_accuracy: 0.8163\n",
            "Epoch 273/300\n",
            "7/7 [==============================] - 0s 11ms/step - loss: 0.1739 - accuracy: 0.9223 - val_loss: 0.4822 - val_accuracy: 0.8163\n",
            "Epoch 274/300\n",
            "7/7 [==============================] - 0s 12ms/step - loss: 0.1735 - accuracy: 0.9223 - val_loss: 0.4855 - val_accuracy: 0.8163\n",
            "Epoch 275/300\n",
            "7/7 [==============================] - 0s 10ms/step - loss: 0.1734 - accuracy: 0.9223 - val_loss: 0.4869 - val_accuracy: 0.8163\n",
            "Epoch 276/300\n",
            "7/7 [==============================] - 0s 8ms/step - loss: 0.1733 - accuracy: 0.9223 - val_loss: 0.4882 - val_accuracy: 0.8163\n",
            "Epoch 277/300\n",
            "7/7 [==============================] - 0s 11ms/step - loss: 0.1728 - accuracy: 0.9223 - val_loss: 0.4883 - val_accuracy: 0.8163\n",
            "Epoch 278/300\n",
            "7/7 [==============================] - 0s 11ms/step - loss: 0.1722 - accuracy: 0.9223 - val_loss: 0.4895 - val_accuracy: 0.8163\n",
            "Epoch 279/300\n",
            "7/7 [==============================] - 0s 8ms/step - loss: 0.1717 - accuracy: 0.9223 - val_loss: 0.4897 - val_accuracy: 0.8163\n",
            "Epoch 280/300\n",
            "7/7 [==============================] - 0s 11ms/step - loss: 0.1710 - accuracy: 0.9223 - val_loss: 0.4883 - val_accuracy: 0.8163\n",
            "Epoch 281/300\n",
            "7/7 [==============================] - 0s 8ms/step - loss: 0.1698 - accuracy: 0.9223 - val_loss: 0.4842 - val_accuracy: 0.8163\n",
            "Epoch 282/300\n",
            "7/7 [==============================] - 0s 8ms/step - loss: 0.1694 - accuracy: 0.9223 - val_loss: 0.4829 - val_accuracy: 0.8163\n",
            "Epoch 283/300\n",
            "7/7 [==============================] - 0s 11ms/step - loss: 0.1691 - accuracy: 0.9275 - val_loss: 0.4825 - val_accuracy: 0.8163\n",
            "Epoch 284/300\n",
            "7/7 [==============================] - 0s 8ms/step - loss: 0.1686 - accuracy: 0.9275 - val_loss: 0.4836 - val_accuracy: 0.8163\n",
            "Epoch 285/300\n",
            "7/7 [==============================] - 0s 11ms/step - loss: 0.1680 - accuracy: 0.9275 - val_loss: 0.4860 - val_accuracy: 0.8163\n",
            "Epoch 286/300\n",
            "7/7 [==============================] - 0s 11ms/step - loss: 0.1684 - accuracy: 0.9223 - val_loss: 0.4895 - val_accuracy: 0.8163\n",
            "Epoch 287/300\n",
            "7/7 [==============================] - 0s 11ms/step - loss: 0.1680 - accuracy: 0.9223 - val_loss: 0.4916 - val_accuracy: 0.8163\n",
            "Epoch 288/300\n",
            "7/7 [==============================] - 0s 11ms/step - loss: 0.1691 - accuracy: 0.9275 - val_loss: 0.4920 - val_accuracy: 0.8163\n",
            "Epoch 289/300\n",
            "7/7 [==============================] - 0s 8ms/step - loss: 0.1701 - accuracy: 0.9223 - val_loss: 0.4909 - val_accuracy: 0.8163\n",
            "Epoch 290/300\n",
            "7/7 [==============================] - 0s 8ms/step - loss: 0.1700 - accuracy: 0.9223 - val_loss: 0.4892 - val_accuracy: 0.8163\n",
            "Epoch 291/300\n",
            "7/7 [==============================] - 0s 11ms/step - loss: 0.1691 - accuracy: 0.9275 - val_loss: 0.4877 - val_accuracy: 0.8163\n",
            "Epoch 292/300\n",
            "7/7 [==============================] - 0s 9ms/step - loss: 0.1684 - accuracy: 0.9275 - val_loss: 0.4881 - val_accuracy: 0.8163\n",
            "Epoch 293/300\n",
            "7/7 [==============================] - 0s 11ms/step - loss: 0.1681 - accuracy: 0.9275 - val_loss: 0.4877 - val_accuracy: 0.8163\n",
            "Epoch 294/300\n",
            "7/7 [==============================] - 0s 9ms/step - loss: 0.1675 - accuracy: 0.9275 - val_loss: 0.4896 - val_accuracy: 0.8163\n",
            "Epoch 295/300\n",
            "7/7 [==============================] - 0s 10ms/step - loss: 0.1671 - accuracy: 0.9275 - val_loss: 0.4915 - val_accuracy: 0.8163\n",
            "Epoch 296/300\n",
            "7/7 [==============================] - 0s 11ms/step - loss: 0.1665 - accuracy: 0.9275 - val_loss: 0.4920 - val_accuracy: 0.8163\n",
            "Epoch 297/300\n",
            "7/7 [==============================] - 0s 9ms/step - loss: 0.1660 - accuracy: 0.9275 - val_loss: 0.4923 - val_accuracy: 0.8163\n",
            "Epoch 298/300\n",
            "7/7 [==============================] - 0s 8ms/step - loss: 0.1655 - accuracy: 0.9223 - val_loss: 0.4922 - val_accuracy: 0.8163\n",
            "Epoch 299/300\n",
            "7/7 [==============================] - 0s 10ms/step - loss: 0.1650 - accuracy: 0.9223 - val_loss: 0.4917 - val_accuracy: 0.8163\n",
            "Epoch 300/300\n",
            "7/7 [==============================] - 0s 8ms/step - loss: 0.1641 - accuracy: 0.9223 - val_loss: 0.4924 - val_accuracy: 0.8163\n"
          ]
        }
      ],
      "source": [
        "history = model.fit(train_X,\n",
        "                    train_y,\n",
        "                    epochs=300,\n",
        "                    batch_size=32,\n",
        "                    validation_split=0.2)"
      ]
    },
    {
      "cell_type": "markdown",
      "source": [
        "Let's plot the training and loss curves to see if ***overfitting*** is going on and if **early stopping** may be needed."
      ],
      "metadata": {
        "id": "fcSh9odtRzSX"
      }
    },
    {
      "cell_type": "code",
      "source": [
        "history_dict = history.history\n",
        "history_dict.keys()"
      ],
      "metadata": {
        "colab": {
          "base_uri": "https://localhost:8080/"
        },
        "id": "p507juxRR29_",
        "outputId": "e3ef70f2-79a6-49b0-b19a-4d29a6ca9109"
      },
      "execution_count": 27,
      "outputs": [
        {
          "output_type": "execute_result",
          "data": {
            "text/plain": [
              "dict_keys(['loss', 'accuracy', 'val_loss', 'val_accuracy'])"
            ]
          },
          "metadata": {},
          "execution_count": 27
        }
      ]
    },
    {
      "cell_type": "code",
      "source": [
        "loss_values = history_dict[\"loss\"]\n",
        "val_loss_values = history_dict[\"val_loss\"]\n",
        "epochs = range(1, len(loss_values) + 1)\n",
        "plt.plot(epochs, loss_values, \"bo\", label=\"Training loss\")\n",
        "plt.plot(epochs, val_loss_values, \"b\", label=\"Validation loss\")\n",
        "plt.title(\"Training and validation loss\")\n",
        "plt.xlabel(\"Epochs\")\n",
        "plt.ylabel(\"Loss\")\n",
        "plt.legend()\n",
        "plt.show()"
      ],
      "metadata": {
        "colab": {
          "base_uri": "https://localhost:8080/",
          "height": 472
        },
        "id": "n4WU9GeVR6QW",
        "outputId": "6631105b-6f13-4ea5-ba92-0901e7ce4f32"
      },
      "execution_count": 28,
      "outputs": [
        {
          "output_type": "display_data",
          "data": {
            "text/plain": [
              "<Figure size 640x480 with 1 Axes>"
            ],
            "image/png": "[encoded data removed]"
          },
          "metadata": {}
        }
      ]
    },
    {
      "cell_type": "markdown",
      "source": [
        "Do you think there's overfitting?\n",
        "\n",
        "If you think there's overfitting at epoch N, we could go back, re-initialize the model and just run it for  N epochs - that would an example of **early stopping**.\n",
        "\n",
        "Let's look at the accuracy curves as well.\n",
        "\n"
      ],
      "metadata": {
        "id": "nqh87CoqVuNH"
      }
    },
    {
      "cell_type": "code",
      "source": [
        "plt.clf()\n",
        "acc = history_dict[\"accuracy\"]\n",
        "val_acc = history_dict[\"val_accuracy\"]\n",
        "plt.plot(epochs, acc, \"bo\", label=\"Training acc\")\n",
        "plt.plot(epochs, val_acc, \"b\", label=\"Validation acc\")\n",
        "plt.title(\"Training and validation accuracy\")\n",
        "plt.xlabel(\"Epochs\")\n",
        "plt.ylabel(\"Accuracy\")\n",
        "plt.legend()\n",
        "plt.show()"
      ],
      "metadata": {
        "colab": {
          "base_uri": "https://localhost:8080/",
          "height": 472
        },
        "id": "z-tzis2kSlw1",
        "outputId": "d8bfcfaa-3243-411b-dc07-8ea7ada1832b"
      },
      "execution_count": 29,
      "outputs": [
        {
          "output_type": "display_data",
          "data": {
            "text/plain": [
              "<Figure size 640x480 with 1 Axes>"
            ],
            "image/png": "[encoded data removed]"
          },
          "metadata": {}
        }
      ]
    },
    {
      "cell_type": "markdown",
      "source": [
        "## Evaluate the model\n",
        "\n",
        "Let's see **how well the model does on the test set**. \n",
        "\n",
        "`model.evaluate` is a very handy function to calculate the performance of your model on any dataset."
      ],
      "metadata": {
        "id": "uWI1kI27RZun"
      }
    },
    {
      "cell_type": "code",
      "source": [
        "model.evaluate(test_X, test_y)"
      ],
      "metadata": {
        "colab": {
          "base_uri": "https://localhost:8080/"
        },
        "id": "PDyP_S4LRlb9",
        "outputId": "7e2e74c6-5a36-4d7c-f722-674bc4a6d144"
      },
      "execution_count": 30,
      "outputs": [
        {
          "output_type": "stream",
          "name": "stdout",
          "text": [
            "2/2 [==============================] - 0s 8ms/step - loss: 0.3866 - accuracy: 0.8361\n"
          ]
        },
        {
          "output_type": "execute_result",
          "data": {
            "text/plain": [
              "[0.3865666091442108, 0.8360655903816223]"
            ]
          },
          "metadata": {},
          "execution_count": 30
        }
      ]
    },
    {
      "cell_type": "markdown",
      "metadata": {
        "id": "F4GzDJ1I8pgw"
      },
      "source": [
        "## Predicting new data (i.e., *inference*) with the model\n",
        "\n",
        "We will see in later colabs how to save a Keras model and use it for prediction later.  But we want to point out that the simple approach we followed in this colab has a key shortcoming.\n",
        "\n",
        "We did the pre-processing - the one-hot encoding and normalization - *outside* the model. This means that we have to remember what pre-processing we did and carry that information (e.g., the mean and variance of each variable) along with the model to correctly use the model in the future.\n",
        "\n",
        "A very elegant way to avoid this issue is to use [Keras preprocessing layers](https://keras.io/guides/preprocessing_layers/). In the interest of time, we aren't covering it in this colab but we encourage you to check out this [colab](https://colab.research.google.com/github/keras-team/keras-io/blob/master/examples/structured_data/ipynb/structured_data_classification_from_scratch.ipynb) which shows how to solve our exact heart-disease prediction problem above using preprocessing layers.\n"
      ]
    }
  ],
  "metadata": {
    "colab": {
      "provenance": []
    },
    "kernelspec": {
      "display_name": "Python 3",
      "language": "python",
      "name": "python3"
    },
    "language_info": {
      "codemirror_mode": {
        "name": "ipython",
        "version": 3
      },
      "file_extension": ".py",
      "mimetype": "text/x-python",
      "name": "python",
      "nbconvert_exporter": "python",
      "pygments_lexer": "ipython3",
      "version": "3.7.0"
    },
    "accelerator": "GPU",
    "gpuClass": "standard"
  },
  "nbformat": 4,
  "nbformat_minor": 0
}